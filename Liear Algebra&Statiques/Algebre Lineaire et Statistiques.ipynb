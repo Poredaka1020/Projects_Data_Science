{
  "cells": [
    {
      "cell_type": "markdown",
      "metadata": {},
      "source": [
        "# **Objectif**\n",
        "Le but de ce travail est d’appliquer les techniques vues en algèbre linéaire,\n",
        "statistiques et probabilités sur un jeux de données."
      ]
    },
    {
      "cell_type": "markdown",
      "metadata": {
        "id": "BUkoGGQ9sR8U"
      },
      "source": [
        "## **Description du jeu de données**\n",
        "Le jeu de données 'salaires.csv' contient des informations sur les salaires annuels\n",
        "de personnes de 42 pays différents, mais la majorité (90 %) provient des Etats-\n",
        "Unis. Le deuxième dans cette catégorie est le Mexique à 2%, ne laissant que\n",
        "8% pour les 40 autres pays. Il y a environ 32 561 entrées avec un total de 12\n",
        "colonnes représentant différents attributs des personnes. \n",
        "Voici la liste:\n",
        "1. Âge : Discret\n",
        "2. Classe de travail (Privé, Gouvernement fédéral, etc): Nominal\n",
        "3. Education (le plus haut niveau d’éducation obtenu) : Ordinal \n",
        "4. Num´ero d’´education (le nombre d’ann´ees d’´etudes): Discret\n",
        "5. Etat civil : Nominal\n",
        "6. Occupation (Transport-Déménagement, Artisanat-Réparation, etc) : Nominal\n",
        "7. Lien de parenté (célibataire, hors famille, etc.) : Nominal\n",
        "8. Race: Nominal\n",
        "9. Sexe : Nominal (2 catégories)\n",
        "10. Heures (travaillées) par semaine : Discrète\n",
        "11. Pays d’origine : Nominal\n",
        "12. Revenu: bool´een (≤ 50 000 ,> 50 000"
      ]
    },
    {
      "cell_type": "markdown",
      "metadata": {
        "id": "4RlitxtrsaLc"
      },
      "source": [
        "Importation des bibliothèques"
      ]
    },
    {
      "cell_type": "code",
      "execution_count": 135,
      "metadata": {
        "id": "WSlYMQmysca3"
      },
      "outputs": [],
      "source": [
        "import pandas as pd"
      ]
    },
    {
      "cell_type": "markdown",
      "metadata": {
        "id": "yH7v644Ys2te"
      },
      "source": [
        "Importation des données"
      ]
    },
    {
      "cell_type": "code",
      "execution_count": 136,
      "metadata": {
        "id": "btO3k9g0tCXq"
      },
      "outputs": [],
      "source": [
        "salaires = pd.read_csv('salaires.csv')"
      ]
    },
    {
      "cell_type": "markdown",
      "metadata": {
        "id": "jWgKJfjDtLDh"
      },
      "source": [
        "# Exploration des données"
      ]
    },
    {
      "cell_type": "code",
      "execution_count": 137,
      "metadata": {
        "colab": {
          "base_uri": "https://localhost:8080/",
          "height": 363
        },
        "id": "U7Y7wqehtXtX",
        "outputId": "47d0bc38-34a0-41e7-f793-c90c6e9f6f14"
      },
      "outputs": [
        {
          "data": {
            "text/html": [
              "\n",
              "  <div id=\"df-6c6e2c33-dea0-4d7c-b47c-f50d69bcfca2\">\n",
              "    <div class=\"colab-df-container\">\n",
              "      <div>\n",
              "<style scoped>\n",
              "    .dataframe tbody tr th:only-of-type {\n",
              "        vertical-align: middle;\n",
              "    }\n",
              "\n",
              "    .dataframe tbody tr th {\n",
              "        vertical-align: top;\n",
              "    }\n",
              "\n",
              "    .dataframe thead th {\n",
              "        text-align: right;\n",
              "    }\n",
              "</style>\n",
              "<table border=\"1\" class=\"dataframe\">\n",
              "  <thead>\n",
              "    <tr style=\"text-align: right;\">\n",
              "      <th></th>\n",
              "      <th>age</th>\n",
              "      <th>classe.travail</th>\n",
              "      <th>education</th>\n",
              "      <th>nombre.education</th>\n",
              "      <th>etat.civil</th>\n",
              "      <th>occupation</th>\n",
              "      <th>Lien.parente</th>\n",
              "      <th>race</th>\n",
              "      <th>sexe</th>\n",
              "      <th>heures.par.semaine</th>\n",
              "      <th>pays.natal</th>\n",
              "      <th>salaire</th>\n",
              "    </tr>\n",
              "  </thead>\n",
              "  <tbody>\n",
              "    <tr>\n",
              "      <th>0</th>\n",
              "      <td>90</td>\n",
              "      <td>?</td>\n",
              "      <td>HS-grad</td>\n",
              "      <td>9</td>\n",
              "      <td>Veuf</td>\n",
              "      <td>?</td>\n",
              "      <td>Pas_dans_famille</td>\n",
              "      <td>Blanc</td>\n",
              "      <td>Feminin</td>\n",
              "      <td>40</td>\n",
              "      <td>United-States</td>\n",
              "      <td>&lt;=50K</td>\n",
              "    </tr>\n",
              "    <tr>\n",
              "      <th>1</th>\n",
              "      <td>82</td>\n",
              "      <td>Privee</td>\n",
              "      <td>HS-grad</td>\n",
              "      <td>9</td>\n",
              "      <td>Veuf</td>\n",
              "      <td>Exec-managerial</td>\n",
              "      <td>Pas_dans_famille</td>\n",
              "      <td>Blanc</td>\n",
              "      <td>Feminin</td>\n",
              "      <td>18</td>\n",
              "      <td>United-States</td>\n",
              "      <td>&lt;=50K</td>\n",
              "    </tr>\n",
              "    <tr>\n",
              "      <th>2</th>\n",
              "      <td>66</td>\n",
              "      <td>?</td>\n",
              "      <td>Some-college</td>\n",
              "      <td>10</td>\n",
              "      <td>Veuf</td>\n",
              "      <td>?</td>\n",
              "      <td>Celibataire</td>\n",
              "      <td>Noir</td>\n",
              "      <td>Feminin</td>\n",
              "      <td>40</td>\n",
              "      <td>United-States</td>\n",
              "      <td>&lt;=50K</td>\n",
              "    </tr>\n",
              "    <tr>\n",
              "      <th>3</th>\n",
              "      <td>54</td>\n",
              "      <td>Privee</td>\n",
              "      <td>7th-8th</td>\n",
              "      <td>4</td>\n",
              "      <td>Divorce</td>\n",
              "      <td>Machine-op-inspct</td>\n",
              "      <td>Celibataire</td>\n",
              "      <td>Blanc</td>\n",
              "      <td>Feminin</td>\n",
              "      <td>40</td>\n",
              "      <td>United-States</td>\n",
              "      <td>&lt;=50K</td>\n",
              "    </tr>\n",
              "    <tr>\n",
              "      <th>4</th>\n",
              "      <td>41</td>\n",
              "      <td>Privee</td>\n",
              "      <td>Some-college</td>\n",
              "      <td>10</td>\n",
              "      <td>Separe</td>\n",
              "      <td>Prof-specialty</td>\n",
              "      <td>Un_enfant</td>\n",
              "      <td>Blanc</td>\n",
              "      <td>Feminin</td>\n",
              "      <td>40</td>\n",
              "      <td>United-States</td>\n",
              "      <td>&lt;=50K</td>\n",
              "    </tr>\n",
              "    <tr>\n",
              "      <th>5</th>\n",
              "      <td>34</td>\n",
              "      <td>Privee</td>\n",
              "      <td>HS-grad</td>\n",
              "      <td>9</td>\n",
              "      <td>Divorce</td>\n",
              "      <td>Other-service</td>\n",
              "      <td>Celibataire</td>\n",
              "      <td>Blanc</td>\n",
              "      <td>Feminin</td>\n",
              "      <td>45</td>\n",
              "      <td>United-States</td>\n",
              "      <td>&lt;=50K</td>\n",
              "    </tr>\n",
              "    <tr>\n",
              "      <th>6</th>\n",
              "      <td>38</td>\n",
              "      <td>Privee</td>\n",
              "      <td>10th</td>\n",
              "      <td>6</td>\n",
              "      <td>Separe</td>\n",
              "      <td>Adm-clerical</td>\n",
              "      <td>Celibataire</td>\n",
              "      <td>Blanc</td>\n",
              "      <td>Masculin</td>\n",
              "      <td>40</td>\n",
              "      <td>United-States</td>\n",
              "      <td>&lt;=50K</td>\n",
              "    </tr>\n",
              "    <tr>\n",
              "      <th>7</th>\n",
              "      <td>74</td>\n",
              "      <td>Gouv-Provincial</td>\n",
              "      <td>Doctorate</td>\n",
              "      <td>16</td>\n",
              "      <td>Jamais_marie</td>\n",
              "      <td>Prof-specialty</td>\n",
              "      <td>Autre</td>\n",
              "      <td>Blanc</td>\n",
              "      <td>Feminin</td>\n",
              "      <td>20</td>\n",
              "      <td>United-States</td>\n",
              "      <td>&gt;50K</td>\n",
              "    </tr>\n",
              "    <tr>\n",
              "      <th>8</th>\n",
              "      <td>68</td>\n",
              "      <td>Gouv-Federal</td>\n",
              "      <td>HS-grad</td>\n",
              "      <td>9</td>\n",
              "      <td>Divorce</td>\n",
              "      <td>Prof-specialty</td>\n",
              "      <td>Pas_dans_famille</td>\n",
              "      <td>Blanc</td>\n",
              "      <td>Feminin</td>\n",
              "      <td>40</td>\n",
              "      <td>United-States</td>\n",
              "      <td>&lt;=50K</td>\n",
              "    </tr>\n",
              "    <tr>\n",
              "      <th>9</th>\n",
              "      <td>41</td>\n",
              "      <td>Privee</td>\n",
              "      <td>Some-college</td>\n",
              "      <td>10</td>\n",
              "      <td>Jamais_marie</td>\n",
              "      <td>Craft-repair</td>\n",
              "      <td>Celibataire</td>\n",
              "      <td>Blanc</td>\n",
              "      <td>Masculin</td>\n",
              "      <td>60</td>\n",
              "      <td>?</td>\n",
              "      <td>&gt;50K</td>\n",
              "    </tr>\n",
              "  </tbody>\n",
              "</table>\n",
              "</div>\n",
              "      <button class=\"colab-df-convert\" onclick=\"convertToInteractive('df-6c6e2c33-dea0-4d7c-b47c-f50d69bcfca2')\"\n",
              "              title=\"Convert this dataframe to an interactive table.\"\n",
              "              style=\"display:none;\">\n",
              "        \n",
              "  <svg xmlns=\"http://www.w3.org/2000/svg\" height=\"24px\"viewBox=\"0 0 24 24\"\n",
              "       width=\"24px\">\n",
              "    <path d=\"M0 0h24v24H0V0z\" fill=\"none\"/>\n",
              "    <path d=\"M18.56 5.44l.94 2.06.94-2.06 2.06-.94-2.06-.94-.94-2.06-.94 2.06-2.06.94zm-11 1L8.5 8.5l.94-2.06 2.06-.94-2.06-.94L8.5 2.5l-.94 2.06-2.06.94zm10 10l.94 2.06.94-2.06 2.06-.94-2.06-.94-.94-2.06-.94 2.06-2.06.94z\"/><path d=\"M17.41 7.96l-1.37-1.37c-.4-.4-.92-.59-1.43-.59-.52 0-1.04.2-1.43.59L10.3 9.45l-7.72 7.72c-.78.78-.78 2.05 0 2.83L4 21.41c.39.39.9.59 1.41.59.51 0 1.02-.2 1.41-.59l7.78-7.78 2.81-2.81c.8-.78.8-2.07 0-2.86zM5.41 20L4 18.59l7.72-7.72 1.47 1.35L5.41 20z\"/>\n",
              "  </svg>\n",
              "      </button>\n",
              "      \n",
              "  <style>\n",
              "    .colab-df-container {\n",
              "      display:flex;\n",
              "      flex-wrap:wrap;\n",
              "      gap: 12px;\n",
              "    }\n",
              "\n",
              "    .colab-df-convert {\n",
              "      background-color: #E8F0FE;\n",
              "      border: none;\n",
              "      border-radius: 50%;\n",
              "      cursor: pointer;\n",
              "      display: none;\n",
              "      fill: #1967D2;\n",
              "      height: 32px;\n",
              "      padding: 0 0 0 0;\n",
              "      width: 32px;\n",
              "    }\n",
              "\n",
              "    .colab-df-convert:hover {\n",
              "      background-color: #E2EBFA;\n",
              "      box-shadow: 0px 1px 2px rgba(60, 64, 67, 0.3), 0px 1px 3px 1px rgba(60, 64, 67, 0.15);\n",
              "      fill: #174EA6;\n",
              "    }\n",
              "\n",
              "    [theme=dark] .colab-df-convert {\n",
              "      background-color: #3B4455;\n",
              "      fill: #D2E3FC;\n",
              "    }\n",
              "\n",
              "    [theme=dark] .colab-df-convert:hover {\n",
              "      background-color: #434B5C;\n",
              "      box-shadow: 0px 1px 3px 1px rgba(0, 0, 0, 0.15);\n",
              "      filter: drop-shadow(0px 1px 2px rgba(0, 0, 0, 0.3));\n",
              "      fill: #FFFFFF;\n",
              "    }\n",
              "  </style>\n",
              "\n",
              "      <script>\n",
              "        const buttonEl =\n",
              "          document.querySelector('#df-6c6e2c33-dea0-4d7c-b47c-f50d69bcfca2 button.colab-df-convert');\n",
              "        buttonEl.style.display =\n",
              "          google.colab.kernel.accessAllowed ? 'block' : 'none';\n",
              "\n",
              "        async function convertToInteractive(key) {\n",
              "          const element = document.querySelector('#df-6c6e2c33-dea0-4d7c-b47c-f50d69bcfca2');\n",
              "          const dataTable =\n",
              "            await google.colab.kernel.invokeFunction('convertToInteractive',\n",
              "                                                     [key], {});\n",
              "          if (!dataTable) return;\n",
              "\n",
              "          const docLinkHtml = 'Like what you see? Visit the ' +\n",
              "            '<a target=\"_blank\" href=https://colab.research.google.com/notebooks/data_table.ipynb>data table notebook</a>'\n",
              "            + ' to learn more about interactive tables.';\n",
              "          element.innerHTML = '';\n",
              "          dataTable['output_type'] = 'display_data';\n",
              "          await google.colab.output.renderOutput(dataTable, element);\n",
              "          const docLink = document.createElement('div');\n",
              "          docLink.innerHTML = docLinkHtml;\n",
              "          element.appendChild(docLink);\n",
              "        }\n",
              "      </script>\n",
              "    </div>\n",
              "  </div>\n",
              "  "
            ],
            "text/plain": [
              "   age   classe.travail     education  nombre.education    etat.civil  \\\n",
              "0   90                ?       HS-grad                 9          Veuf   \n",
              "1   82           Privee       HS-grad                 9          Veuf   \n",
              "2   66                ?  Some-college                10          Veuf   \n",
              "3   54           Privee       7th-8th                 4       Divorce   \n",
              "4   41           Privee  Some-college                10        Separe   \n",
              "5   34           Privee       HS-grad                 9       Divorce   \n",
              "6   38           Privee          10th                 6        Separe   \n",
              "7   74  Gouv-Provincial     Doctorate                16  Jamais_marie   \n",
              "8   68     Gouv-Federal       HS-grad                 9       Divorce   \n",
              "9   41           Privee  Some-college                10  Jamais_marie   \n",
              "\n",
              "          occupation      Lien.parente   race      sexe  heures.par.semaine  \\\n",
              "0                  ?  Pas_dans_famille  Blanc   Feminin                  40   \n",
              "1    Exec-managerial  Pas_dans_famille  Blanc   Feminin                  18   \n",
              "2                  ?       Celibataire   Noir   Feminin                  40   \n",
              "3  Machine-op-inspct       Celibataire  Blanc   Feminin                  40   \n",
              "4     Prof-specialty         Un_enfant  Blanc   Feminin                  40   \n",
              "5      Other-service       Celibataire  Blanc   Feminin                  45   \n",
              "6       Adm-clerical       Celibataire  Blanc  Masculin                  40   \n",
              "7     Prof-specialty             Autre  Blanc   Feminin                  20   \n",
              "8     Prof-specialty  Pas_dans_famille  Blanc   Feminin                  40   \n",
              "9       Craft-repair       Celibataire  Blanc  Masculin                  60   \n",
              "\n",
              "      pays.natal salaire  \n",
              "0  United-States   <=50K  \n",
              "1  United-States   <=50K  \n",
              "2  United-States   <=50K  \n",
              "3  United-States   <=50K  \n",
              "4  United-States   <=50K  \n",
              "5  United-States   <=50K  \n",
              "6  United-States   <=50K  \n",
              "7  United-States    >50K  \n",
              "8  United-States   <=50K  \n",
              "9              ?    >50K  "
            ]
          },
          "execution_count": 137,
          "metadata": {},
          "output_type": "execute_result"
        }
      ],
      "source": [
        "salaires.head(10)"
      ]
    },
    {
      "cell_type": "markdown",
      "metadata": {
        "id": "Wm9VT680tdM5"
      },
      "source": [
        "1. Quelle est la taille du jeu de données?"
      ]
    },
    {
      "cell_type": "code",
      "execution_count": 138,
      "metadata": {
        "colab": {
          "base_uri": "https://localhost:8080/"
        },
        "id": "KxLL6tMXttTS",
        "outputId": "b9f6adbb-c9f2-4753-b654-7a1d9e3f57ce"
      },
      "outputs": [
        {
          "data": {
            "text/plain": [
              "(32561, 12)"
            ]
          },
          "execution_count": 138,
          "metadata": {},
          "output_type": "execute_result"
        }
      ],
      "source": [
        "#Nb lignes et de colonnes\n",
        "salaires.shape"
      ]
    },
    {
      "cell_type": "code",
      "execution_count": 139,
      "metadata": {
        "colab": {
          "base_uri": "https://localhost:8080/"
        },
        "id": "tbPGEnvhJVJ2",
        "outputId": "09f62d2f-d031-478c-d7fc-6cbb366a92b3"
      },
      "outputs": [
        {
          "data": {
            "text/plain": [
              "390732"
            ]
          },
          "execution_count": 139,
          "metadata": {},
          "output_type": "execute_result"
        }
      ],
      "source": [
        "#Taille (m * n)\n",
        "salaires.size"
      ]
    },
    {
      "cell_type": "markdown",
      "metadata": {
        "id": "tDDEKiUpSI9Q"
      },
      "source": [
        "*La* taille du jeu de données est : 390732"
      ]
    },
    {
      "cell_type": "markdown",
      "metadata": {
        "id": "iQyWQ9bJuRMb"
      },
      "source": [
        "2. Combien de valeurs manquantes y'a t-il pour chaque colonne? Quelle est la colonne (feature) qui a plus de valeurs manquantes?"
      ]
    },
    {
      "cell_type": "code",
      "execution_count": 140,
      "metadata": {
        "colab": {
          "base_uri": "https://localhost:8080/"
        },
        "id": "sarDRIHCumgJ",
        "outputId": "f0148ea3-d75a-470f-e05f-aea591f34c45"
      },
      "outputs": [
        {
          "data": {
            "text/plain": [
              "age                      0\n",
              "classe.travail        1836\n",
              "education                0\n",
              "nombre.education         0\n",
              "etat.civil               0\n",
              "occupation            1843\n",
              "Lien.parente             0\n",
              "race                     0\n",
              "sexe                     0\n",
              "heures.par.semaine       0\n",
              "pays.natal             583\n",
              "salaire                  0\n",
              "dtype: int64"
            ]
          },
          "execution_count": 140,
          "metadata": {},
          "output_type": "execute_result"
        }
      ],
      "source": [
        "from numpy import nan\n",
        "salaires[salaires == '?'] = nan\n",
        "valeurs_manquantes = salaires.isna().sum()\n",
        "valeurs_manquantes"
      ]
    },
    {
      "cell_type": "markdown",
      "metadata": {
        "id": "94cZwJiMJwCI"
      },
      "source": [
        "Classe.travail --> 1836,\n",
        "occupation --> 1843,\n",
        "pays.natal --> 583.\n",
        "Les autres colonnes du jeu de données n'ont pas de valeurs manquantes."
      ]
    },
    {
      "cell_type": "code",
      "execution_count": 141,
      "metadata": {
        "colab": {
          "base_uri": "https://localhost:8080/",
          "height": 35
        },
        "id": "MqVrqoEQvyIU",
        "outputId": "10446534-95a0-481e-b13a-d8d4dcec605c"
      },
      "outputs": [
        {
          "data": {
            "application/vnd.google.colaboratory.intrinsic+json": {
              "type": "string"
            },
            "text/plain": [
              "'occupation'"
            ]
          },
          "execution_count": 141,
          "metadata": {},
          "output_type": "execute_result"
        }
      ],
      "source": [
        "valeurs_manquantes.idxmax()"
      ]
    },
    {
      "cell_type": "markdown",
      "metadata": {
        "id": "EdOqnwWWKZxG"
      },
      "source": [
        "\"Occupation\" est la colonne avec plus de valeurs manquantes (1843)"
      ]
    },
    {
      "cell_type": "code",
      "execution_count": 142,
      "metadata": {
        "id": "DXW0z-iBa_Kd"
      },
      "outputs": [],
      "source": [
        "#salaires = salaires.dropna()"
      ]
    },
    {
      "cell_type": "markdown",
      "metadata": {
        "id": "kuJ5-Vz2xBHC"
      },
      "source": [
        "3. Combien d'hommes y'a t-il dans ce jeu de données?"
      ]
    },
    {
      "cell_type": "code",
      "execution_count": 143,
      "metadata": {
        "colab": {
          "base_uri": "https://localhost:8080/"
        },
        "id": "Q73sQPSRxUGj",
        "outputId": "d97830d4-520c-43a5-85de-24a6eda293aa"
      },
      "outputs": [
        {
          "data": {
            "text/plain": [
              "21790"
            ]
          },
          "execution_count": 143,
          "metadata": {},
          "output_type": "execute_result"
        }
      ],
      "source": [
        "nb_hommes = len(salaires[salaires['sexe'] == 'Masculin'])\n",
        "nb_hommes"
      ]
    },
    {
      "cell_type": "markdown",
      "metadata": {
        "id": "8CV2DndQKsJ9"
      },
      "source": [
        "Il y'a 21790 hommes dans ce jeu de données"
      ]
    },
    {
      "cell_type": "markdown",
      "metadata": {
        "id": "vUcaiAYMx-as"
      },
      "source": [
        "4. Quel est l'âge le plus élevé et le plus bas du jeu de données ?"
      ]
    },
    {
      "cell_type": "code",
      "execution_count": 144,
      "metadata": {
        "colab": {
          "base_uri": "https://localhost:8080/"
        },
        "id": "-qf8qxY5ydqJ",
        "outputId": "9e59b7e5-1a2b-4ad3-f4e1-eec37bcc8dff"
      },
      "outputs": [
        {
          "data": {
            "text/plain": [
              "90"
            ]
          },
          "execution_count": 144,
          "metadata": {},
          "output_type": "execute_result"
        }
      ],
      "source": [
        "max_age = salaires['age'].max()\n",
        "max_age"
      ]
    },
    {
      "cell_type": "markdown",
      "metadata": {
        "id": "6PmUvVy1S3HJ"
      },
      "source": [
        "L'âge le plus élevé dans ce jeu de données est: 90"
      ]
    },
    {
      "cell_type": "code",
      "execution_count": 145,
      "metadata": {
        "colab": {
          "base_uri": "https://localhost:8080/"
        },
        "id": "aIdxRvDTyrQp",
        "outputId": "298fccc9-7bc5-46e2-9ed7-7764ec06f0ea"
      },
      "outputs": [
        {
          "data": {
            "text/plain": [
              "17"
            ]
          },
          "execution_count": 145,
          "metadata": {},
          "output_type": "execute_result"
        }
      ],
      "source": [
        "min_age = salaires['age'].min()\n",
        "min_age"
      ]
    },
    {
      "cell_type": "markdown",
      "metadata": {
        "id": "S8Nieu94TBKs"
      },
      "source": [
        "L'âge le plus bas dans ce jeu de données est: 17"
      ]
    },
    {
      "cell_type": "markdown",
      "metadata": {
        "id": "JS50f1_2yxee"
      },
      "source": [
        "5. Combien de femmes travaillent dans le secteur privé?"
      ]
    },
    {
      "cell_type": "code",
      "execution_count": 146,
      "metadata": {
        "colab": {
          "base_uri": "https://localhost:8080/"
        },
        "id": "bFnqkuMPzTnE",
        "outputId": "ef123786-9640-401c-82fd-a60932697e6b"
      },
      "outputs": [
        {
          "data": {
            "text/plain": [
              "7752"
            ]
          },
          "execution_count": 146,
          "metadata": {},
          "output_type": "execute_result"
        }
      ],
      "source": [
        "nb_femmes_sp = len(salaires[(salaires['sexe'] == 'Feminin') & (salaires['classe.travail'] == 'Privee')])\n",
        "nb_femmes_sp"
      ]
    },
    {
      "cell_type": "markdown",
      "metadata": {
        "id": "L4zHebXoTKzZ"
      },
      "source": [
        "Le nombre de femmes qui travaillent dans le secteur privé est: 7752"
      ]
    },
    {
      "cell_type": "markdown",
      "metadata": {
        "id": "SPSL7ulM0mKH"
      },
      "source": [
        "6. Quelle est la liste des différents pays représentés dans la colonne représentant le pays natal/d'origine de chaque personne de notre jeu de données?"
      ]
    },
    {
      "cell_type": "code",
      "execution_count": 147,
      "metadata": {
        "colab": {
          "base_uri": "https://localhost:8080/"
        },
        "id": "YP3X8Vzl1Swh",
        "outputId": "842a63f6-6862-41d6-a78b-9b40a91e8bbd"
      },
      "outputs": [
        {
          "name": "stdout",
          "output_type": "stream",
          "text": [
            "Les pays sont: ['United-States' nan 'Mexico' 'Greece' 'Vietnam' 'China' 'Taiwan' 'India'\n",
            " 'Philippines' 'Trinadad&Tobago' 'Canada' 'South' 'Holand-Netherlands'\n",
            " 'Puerto-Rico' 'Poland' 'Iran' 'England' 'Germany' 'Italy' 'Japan' 'Hong'\n",
            " 'Honduras' 'Cuba' 'Ireland' 'Cambodia' 'Peru' 'Nicaragua'\n",
            " 'Dominican-Republic' 'Haiti' 'El-Salvador' 'Hungary' 'Columbia'\n",
            " 'Guatemala' 'Jamaica' 'Ecuador' 'France' 'Yugoslavia' 'Scotland'\n",
            " 'Portugal' 'Laos' 'Thailand' 'Outlying-US(Guam-USVI-etc)']\n"
          ]
        }
      ],
      "source": [
        "pays = salaires['pays.natal'].unique()\n",
        "print(\"Les pays sont:\",pays)"
      ]
    },
    {
      "cell_type": "markdown",
      "metadata": {
        "id": "bLHFN2JZ8YJn"
      },
      "source": [
        "# Algèbre linéaire"
      ]
    },
    {
      "cell_type": "code",
      "execution_count": 148,
      "metadata": {
        "colab": {
          "base_uri": "https://localhost:8080/",
          "height": 424
        },
        "id": "mU7djWBPS4ma",
        "outputId": "426b00a1-86cd-4058-ea9f-decc1f7684c3"
      },
      "outputs": [
        {
          "data": {
            "text/html": [
              "\n",
              "  <div id=\"df-5a37bf09-ab69-4522-8624-876ddbfd7265\">\n",
              "    <div class=\"colab-df-container\">\n",
              "      <div>\n",
              "<style scoped>\n",
              "    .dataframe tbody tr th:only-of-type {\n",
              "        vertical-align: middle;\n",
              "    }\n",
              "\n",
              "    .dataframe tbody tr th {\n",
              "        vertical-align: top;\n",
              "    }\n",
              "\n",
              "    .dataframe thead th {\n",
              "        text-align: right;\n",
              "    }\n",
              "</style>\n",
              "<table border=\"1\" class=\"dataframe\">\n",
              "  <thead>\n",
              "    <tr style=\"text-align: right;\">\n",
              "      <th></th>\n",
              "      <th>age</th>\n",
              "      <th>classe.travail</th>\n",
              "      <th>education</th>\n",
              "      <th>nombre.education</th>\n",
              "      <th>etat.civil</th>\n",
              "      <th>occupation</th>\n",
              "      <th>Lien.parente</th>\n",
              "      <th>race</th>\n",
              "      <th>sexe</th>\n",
              "      <th>heures.par.semaine</th>\n",
              "      <th>pays.natal</th>\n",
              "      <th>salaire</th>\n",
              "    </tr>\n",
              "  </thead>\n",
              "  <tbody>\n",
              "    <tr>\n",
              "      <th>0</th>\n",
              "      <td>90</td>\n",
              "      <td>NaN</td>\n",
              "      <td>HS-grad</td>\n",
              "      <td>9</td>\n",
              "      <td>Veuf</td>\n",
              "      <td>NaN</td>\n",
              "      <td>Pas_dans_famille</td>\n",
              "      <td>Blanc</td>\n",
              "      <td>Feminin</td>\n",
              "      <td>40</td>\n",
              "      <td>United-States</td>\n",
              "      <td>0</td>\n",
              "    </tr>\n",
              "    <tr>\n",
              "      <th>1</th>\n",
              "      <td>82</td>\n",
              "      <td>Privee</td>\n",
              "      <td>HS-grad</td>\n",
              "      <td>9</td>\n",
              "      <td>Veuf</td>\n",
              "      <td>Exec-managerial</td>\n",
              "      <td>Pas_dans_famille</td>\n",
              "      <td>Blanc</td>\n",
              "      <td>Feminin</td>\n",
              "      <td>18</td>\n",
              "      <td>United-States</td>\n",
              "      <td>0</td>\n",
              "    </tr>\n",
              "    <tr>\n",
              "      <th>2</th>\n",
              "      <td>66</td>\n",
              "      <td>NaN</td>\n",
              "      <td>Some-college</td>\n",
              "      <td>10</td>\n",
              "      <td>Veuf</td>\n",
              "      <td>NaN</td>\n",
              "      <td>Celibataire</td>\n",
              "      <td>Noir</td>\n",
              "      <td>Feminin</td>\n",
              "      <td>40</td>\n",
              "      <td>United-States</td>\n",
              "      <td>0</td>\n",
              "    </tr>\n",
              "    <tr>\n",
              "      <th>3</th>\n",
              "      <td>54</td>\n",
              "      <td>Privee</td>\n",
              "      <td>7th-8th</td>\n",
              "      <td>4</td>\n",
              "      <td>Divorce</td>\n",
              "      <td>Machine-op-inspct</td>\n",
              "      <td>Celibataire</td>\n",
              "      <td>Blanc</td>\n",
              "      <td>Feminin</td>\n",
              "      <td>40</td>\n",
              "      <td>United-States</td>\n",
              "      <td>0</td>\n",
              "    </tr>\n",
              "    <tr>\n",
              "      <th>4</th>\n",
              "      <td>41</td>\n",
              "      <td>Privee</td>\n",
              "      <td>Some-college</td>\n",
              "      <td>10</td>\n",
              "      <td>Separe</td>\n",
              "      <td>Prof-specialty</td>\n",
              "      <td>Un_enfant</td>\n",
              "      <td>Blanc</td>\n",
              "      <td>Feminin</td>\n",
              "      <td>40</td>\n",
              "      <td>United-States</td>\n",
              "      <td>0</td>\n",
              "    </tr>\n",
              "    <tr>\n",
              "      <th>...</th>\n",
              "      <td>...</td>\n",
              "      <td>...</td>\n",
              "      <td>...</td>\n",
              "      <td>...</td>\n",
              "      <td>...</td>\n",
              "      <td>...</td>\n",
              "      <td>...</td>\n",
              "      <td>...</td>\n",
              "      <td>...</td>\n",
              "      <td>...</td>\n",
              "      <td>...</td>\n",
              "      <td>...</td>\n",
              "    </tr>\n",
              "    <tr>\n",
              "      <th>32556</th>\n",
              "      <td>22</td>\n",
              "      <td>Privee</td>\n",
              "      <td>Some-college</td>\n",
              "      <td>10</td>\n",
              "      <td>Jamais_marie</td>\n",
              "      <td>Protective-serv</td>\n",
              "      <td>Pas_dans_famille</td>\n",
              "      <td>Blanc</td>\n",
              "      <td>Masculin</td>\n",
              "      <td>40</td>\n",
              "      <td>United-States</td>\n",
              "      <td>0</td>\n",
              "    </tr>\n",
              "    <tr>\n",
              "      <th>32557</th>\n",
              "      <td>27</td>\n",
              "      <td>Privee</td>\n",
              "      <td>Assoc-acdm</td>\n",
              "      <td>12</td>\n",
              "      <td>Marie_civil</td>\n",
              "      <td>Tech-support</td>\n",
              "      <td>Epouse</td>\n",
              "      <td>Blanc</td>\n",
              "      <td>Feminin</td>\n",
              "      <td>38</td>\n",
              "      <td>United-States</td>\n",
              "      <td>0</td>\n",
              "    </tr>\n",
              "    <tr>\n",
              "      <th>32558</th>\n",
              "      <td>40</td>\n",
              "      <td>Privee</td>\n",
              "      <td>HS-grad</td>\n",
              "      <td>9</td>\n",
              "      <td>Marie_civil</td>\n",
              "      <td>Machine-op-inspct</td>\n",
              "      <td>Mari</td>\n",
              "      <td>Blanc</td>\n",
              "      <td>Masculin</td>\n",
              "      <td>40</td>\n",
              "      <td>United-States</td>\n",
              "      <td>1</td>\n",
              "    </tr>\n",
              "    <tr>\n",
              "      <th>32559</th>\n",
              "      <td>58</td>\n",
              "      <td>Privee</td>\n",
              "      <td>HS-grad</td>\n",
              "      <td>9</td>\n",
              "      <td>Veuf</td>\n",
              "      <td>Adm-clerical</td>\n",
              "      <td>Celibataire</td>\n",
              "      <td>Blanc</td>\n",
              "      <td>Feminin</td>\n",
              "      <td>40</td>\n",
              "      <td>United-States</td>\n",
              "      <td>0</td>\n",
              "    </tr>\n",
              "    <tr>\n",
              "      <th>32560</th>\n",
              "      <td>22</td>\n",
              "      <td>Privee</td>\n",
              "      <td>HS-grad</td>\n",
              "      <td>9</td>\n",
              "      <td>Jamais_marie</td>\n",
              "      <td>Adm-clerical</td>\n",
              "      <td>Un_enfant</td>\n",
              "      <td>Blanc</td>\n",
              "      <td>Masculin</td>\n",
              "      <td>20</td>\n",
              "      <td>United-States</td>\n",
              "      <td>0</td>\n",
              "    </tr>\n",
              "  </tbody>\n",
              "</table>\n",
              "<p>32561 rows × 12 columns</p>\n",
              "</div>\n",
              "      <button class=\"colab-df-convert\" onclick=\"convertToInteractive('df-5a37bf09-ab69-4522-8624-876ddbfd7265')\"\n",
              "              title=\"Convert this dataframe to an interactive table.\"\n",
              "              style=\"display:none;\">\n",
              "        \n",
              "  <svg xmlns=\"http://www.w3.org/2000/svg\" height=\"24px\"viewBox=\"0 0 24 24\"\n",
              "       width=\"24px\">\n",
              "    <path d=\"M0 0h24v24H0V0z\" fill=\"none\"/>\n",
              "    <path d=\"M18.56 5.44l.94 2.06.94-2.06 2.06-.94-2.06-.94-.94-2.06-.94 2.06-2.06.94zm-11 1L8.5 8.5l.94-2.06 2.06-.94-2.06-.94L8.5 2.5l-.94 2.06-2.06.94zm10 10l.94 2.06.94-2.06 2.06-.94-2.06-.94-.94-2.06-.94 2.06-2.06.94z\"/><path d=\"M17.41 7.96l-1.37-1.37c-.4-.4-.92-.59-1.43-.59-.52 0-1.04.2-1.43.59L10.3 9.45l-7.72 7.72c-.78.78-.78 2.05 0 2.83L4 21.41c.39.39.9.59 1.41.59.51 0 1.02-.2 1.41-.59l7.78-7.78 2.81-2.81c.8-.78.8-2.07 0-2.86zM5.41 20L4 18.59l7.72-7.72 1.47 1.35L5.41 20z\"/>\n",
              "  </svg>\n",
              "      </button>\n",
              "      \n",
              "  <style>\n",
              "    .colab-df-container {\n",
              "      display:flex;\n",
              "      flex-wrap:wrap;\n",
              "      gap: 12px;\n",
              "    }\n",
              "\n",
              "    .colab-df-convert {\n",
              "      background-color: #E8F0FE;\n",
              "      border: none;\n",
              "      border-radius: 50%;\n",
              "      cursor: pointer;\n",
              "      display: none;\n",
              "      fill: #1967D2;\n",
              "      height: 32px;\n",
              "      padding: 0 0 0 0;\n",
              "      width: 32px;\n",
              "    }\n",
              "\n",
              "    .colab-df-convert:hover {\n",
              "      background-color: #E2EBFA;\n",
              "      box-shadow: 0px 1px 2px rgba(60, 64, 67, 0.3), 0px 1px 3px 1px rgba(60, 64, 67, 0.15);\n",
              "      fill: #174EA6;\n",
              "    }\n",
              "\n",
              "    [theme=dark] .colab-df-convert {\n",
              "      background-color: #3B4455;\n",
              "      fill: #D2E3FC;\n",
              "    }\n",
              "\n",
              "    [theme=dark] .colab-df-convert:hover {\n",
              "      background-color: #434B5C;\n",
              "      box-shadow: 0px 1px 3px 1px rgba(0, 0, 0, 0.15);\n",
              "      filter: drop-shadow(0px 1px 2px rgba(0, 0, 0, 0.3));\n",
              "      fill: #FFFFFF;\n",
              "    }\n",
              "  </style>\n",
              "\n",
              "      <script>\n",
              "        const buttonEl =\n",
              "          document.querySelector('#df-5a37bf09-ab69-4522-8624-876ddbfd7265 button.colab-df-convert');\n",
              "        buttonEl.style.display =\n",
              "          google.colab.kernel.accessAllowed ? 'block' : 'none';\n",
              "\n",
              "        async function convertToInteractive(key) {\n",
              "          const element = document.querySelector('#df-5a37bf09-ab69-4522-8624-876ddbfd7265');\n",
              "          const dataTable =\n",
              "            await google.colab.kernel.invokeFunction('convertToInteractive',\n",
              "                                                     [key], {});\n",
              "          if (!dataTable) return;\n",
              "\n",
              "          const docLinkHtml = 'Like what you see? Visit the ' +\n",
              "            '<a target=\"_blank\" href=https://colab.research.google.com/notebooks/data_table.ipynb>data table notebook</a>'\n",
              "            + ' to learn more about interactive tables.';\n",
              "          element.innerHTML = '';\n",
              "          dataTable['output_type'] = 'display_data';\n",
              "          await google.colab.output.renderOutput(dataTable, element);\n",
              "          const docLink = document.createElement('div');\n",
              "          docLink.innerHTML = docLinkHtml;\n",
              "          element.appendChild(docLink);\n",
              "        }\n",
              "      </script>\n",
              "    </div>\n",
              "  </div>\n",
              "  "
            ],
            "text/plain": [
              "       age classe.travail     education  nombre.education    etat.civil  \\\n",
              "0       90            NaN       HS-grad                 9          Veuf   \n",
              "1       82         Privee       HS-grad                 9          Veuf   \n",
              "2       66            NaN  Some-college                10          Veuf   \n",
              "3       54         Privee       7th-8th                 4       Divorce   \n",
              "4       41         Privee  Some-college                10        Separe   \n",
              "...    ...            ...           ...               ...           ...   \n",
              "32556   22         Privee  Some-college                10  Jamais_marie   \n",
              "32557   27         Privee    Assoc-acdm                12   Marie_civil   \n",
              "32558   40         Privee       HS-grad                 9   Marie_civil   \n",
              "32559   58         Privee       HS-grad                 9          Veuf   \n",
              "32560   22         Privee       HS-grad                 9  Jamais_marie   \n",
              "\n",
              "              occupation      Lien.parente   race      sexe  \\\n",
              "0                    NaN  Pas_dans_famille  Blanc   Feminin   \n",
              "1        Exec-managerial  Pas_dans_famille  Blanc   Feminin   \n",
              "2                    NaN       Celibataire   Noir   Feminin   \n",
              "3      Machine-op-inspct       Celibataire  Blanc   Feminin   \n",
              "4         Prof-specialty         Un_enfant  Blanc   Feminin   \n",
              "...                  ...               ...    ...       ...   \n",
              "32556    Protective-serv  Pas_dans_famille  Blanc  Masculin   \n",
              "32557       Tech-support            Epouse  Blanc   Feminin   \n",
              "32558  Machine-op-inspct              Mari  Blanc  Masculin   \n",
              "32559       Adm-clerical       Celibataire  Blanc   Feminin   \n",
              "32560       Adm-clerical         Un_enfant  Blanc  Masculin   \n",
              "\n",
              "       heures.par.semaine     pays.natal  salaire  \n",
              "0                      40  United-States        0  \n",
              "1                      18  United-States        0  \n",
              "2                      40  United-States        0  \n",
              "3                      40  United-States        0  \n",
              "4                      40  United-States        0  \n",
              "...                   ...            ...      ...  \n",
              "32556                  40  United-States        0  \n",
              "32557                  38  United-States        0  \n",
              "32558                  40  United-States        1  \n",
              "32559                  40  United-States        0  \n",
              "32560                  20  United-States        0  \n",
              "\n",
              "[32561 rows x 12 columns]"
            ]
          },
          "execution_count": 148,
          "metadata": {},
          "output_type": "execute_result"
        }
      ],
      "source": [
        "from sklearn.preprocessing import LabelEncoder\n",
        "labelEncoder = LabelEncoder()\n",
        "#Conversion du salaire\n",
        "salaires[\"salaire\"] = labelEncoder.fit_transform(salaires[\"salaire\"].values)\n",
        "salaires"
      ]
    },
    {
      "cell_type": "markdown",
      "metadata": {
        "id": "5b5iBZ11bRKd"
      },
      "source": [
        "Récuperer les femmes du jeu de données et splitter les données en 10% de test."
      ]
    },
    {
      "cell_type": "markdown",
      "metadata": {
        "id": "P8c6w6YBSfRT"
      },
      "source": [
        "Récupérer seulements les femmes"
      ]
    },
    {
      "cell_type": "code",
      "execution_count": 149,
      "metadata": {
        "colab": {
          "base_uri": "https://localhost:8080/",
          "height": 424
        },
        "id": "G7OrG7rkbggI",
        "outputId": "8505eb1b-b058-4a7a-be7d-2d6f0bc55e2f"
      },
      "outputs": [
        {
          "data": {
            "text/html": [
              "\n",
              "  <div id=\"df-2d5533ab-ec86-49d9-a48f-56cd09b4e223\">\n",
              "    <div class=\"colab-df-container\">\n",
              "      <div>\n",
              "<style scoped>\n",
              "    .dataframe tbody tr th:only-of-type {\n",
              "        vertical-align: middle;\n",
              "    }\n",
              "\n",
              "    .dataframe tbody tr th {\n",
              "        vertical-align: top;\n",
              "    }\n",
              "\n",
              "    .dataframe thead th {\n",
              "        text-align: right;\n",
              "    }\n",
              "</style>\n",
              "<table border=\"1\" class=\"dataframe\">\n",
              "  <thead>\n",
              "    <tr style=\"text-align: right;\">\n",
              "      <th></th>\n",
              "      <th>age</th>\n",
              "      <th>classe.travail</th>\n",
              "      <th>education</th>\n",
              "      <th>nombre.education</th>\n",
              "      <th>etat.civil</th>\n",
              "      <th>occupation</th>\n",
              "      <th>Lien.parente</th>\n",
              "      <th>race</th>\n",
              "      <th>sexe</th>\n",
              "      <th>heures.par.semaine</th>\n",
              "      <th>pays.natal</th>\n",
              "      <th>salaire</th>\n",
              "    </tr>\n",
              "  </thead>\n",
              "  <tbody>\n",
              "    <tr>\n",
              "      <th>0</th>\n",
              "      <td>90</td>\n",
              "      <td>NaN</td>\n",
              "      <td>HS-grad</td>\n",
              "      <td>9</td>\n",
              "      <td>Veuf</td>\n",
              "      <td>NaN</td>\n",
              "      <td>Pas_dans_famille</td>\n",
              "      <td>Blanc</td>\n",
              "      <td>Feminin</td>\n",
              "      <td>40</td>\n",
              "      <td>United-States</td>\n",
              "      <td>0</td>\n",
              "    </tr>\n",
              "    <tr>\n",
              "      <th>1</th>\n",
              "      <td>82</td>\n",
              "      <td>Privee</td>\n",
              "      <td>HS-grad</td>\n",
              "      <td>9</td>\n",
              "      <td>Veuf</td>\n",
              "      <td>Exec-managerial</td>\n",
              "      <td>Pas_dans_famille</td>\n",
              "      <td>Blanc</td>\n",
              "      <td>Feminin</td>\n",
              "      <td>18</td>\n",
              "      <td>United-States</td>\n",
              "      <td>0</td>\n",
              "    </tr>\n",
              "    <tr>\n",
              "      <th>2</th>\n",
              "      <td>66</td>\n",
              "      <td>NaN</td>\n",
              "      <td>Some-college</td>\n",
              "      <td>10</td>\n",
              "      <td>Veuf</td>\n",
              "      <td>NaN</td>\n",
              "      <td>Celibataire</td>\n",
              "      <td>Noir</td>\n",
              "      <td>Feminin</td>\n",
              "      <td>40</td>\n",
              "      <td>United-States</td>\n",
              "      <td>0</td>\n",
              "    </tr>\n",
              "    <tr>\n",
              "      <th>3</th>\n",
              "      <td>54</td>\n",
              "      <td>Privee</td>\n",
              "      <td>7th-8th</td>\n",
              "      <td>4</td>\n",
              "      <td>Divorce</td>\n",
              "      <td>Machine-op-inspct</td>\n",
              "      <td>Celibataire</td>\n",
              "      <td>Blanc</td>\n",
              "      <td>Feminin</td>\n",
              "      <td>40</td>\n",
              "      <td>United-States</td>\n",
              "      <td>0</td>\n",
              "    </tr>\n",
              "    <tr>\n",
              "      <th>4</th>\n",
              "      <td>41</td>\n",
              "      <td>Privee</td>\n",
              "      <td>Some-college</td>\n",
              "      <td>10</td>\n",
              "      <td>Separe</td>\n",
              "      <td>Prof-specialty</td>\n",
              "      <td>Un_enfant</td>\n",
              "      <td>Blanc</td>\n",
              "      <td>Feminin</td>\n",
              "      <td>40</td>\n",
              "      <td>United-States</td>\n",
              "      <td>0</td>\n",
              "    </tr>\n",
              "    <tr>\n",
              "      <th>...</th>\n",
              "      <td>...</td>\n",
              "      <td>...</td>\n",
              "      <td>...</td>\n",
              "      <td>...</td>\n",
              "      <td>...</td>\n",
              "      <td>...</td>\n",
              "      <td>...</td>\n",
              "      <td>...</td>\n",
              "      <td>...</td>\n",
              "      <td>...</td>\n",
              "      <td>...</td>\n",
              "      <td>...</td>\n",
              "    </tr>\n",
              "    <tr>\n",
              "      <th>32547</th>\n",
              "      <td>39</td>\n",
              "      <td>Gouv_local</td>\n",
              "      <td>Assoc-acdm</td>\n",
              "      <td>12</td>\n",
              "      <td>Marie_civil</td>\n",
              "      <td>Adm-clerical</td>\n",
              "      <td>Epouse</td>\n",
              "      <td>Blanc</td>\n",
              "      <td>Feminin</td>\n",
              "      <td>20</td>\n",
              "      <td>United-States</td>\n",
              "      <td>1</td>\n",
              "    </tr>\n",
              "    <tr>\n",
              "      <th>32548</th>\n",
              "      <td>37</td>\n",
              "      <td>Privee</td>\n",
              "      <td>Assoc-acdm</td>\n",
              "      <td>12</td>\n",
              "      <td>Divorce</td>\n",
              "      <td>Tech-support</td>\n",
              "      <td>Pas_dans_famille</td>\n",
              "      <td>Blanc</td>\n",
              "      <td>Feminin</td>\n",
              "      <td>40</td>\n",
              "      <td>United-States</td>\n",
              "      <td>0</td>\n",
              "    </tr>\n",
              "    <tr>\n",
              "      <th>32550</th>\n",
              "      <td>43</td>\n",
              "      <td>Gouv-Provincial</td>\n",
              "      <td>Some-college</td>\n",
              "      <td>10</td>\n",
              "      <td>Divorce</td>\n",
              "      <td>Adm-clerical</td>\n",
              "      <td>Autre</td>\n",
              "      <td>Blanc</td>\n",
              "      <td>Feminin</td>\n",
              "      <td>40</td>\n",
              "      <td>United-States</td>\n",
              "      <td>0</td>\n",
              "    </tr>\n",
              "    <tr>\n",
              "      <th>32557</th>\n",
              "      <td>27</td>\n",
              "      <td>Privee</td>\n",
              "      <td>Assoc-acdm</td>\n",
              "      <td>12</td>\n",
              "      <td>Marie_civil</td>\n",
              "      <td>Tech-support</td>\n",
              "      <td>Epouse</td>\n",
              "      <td>Blanc</td>\n",
              "      <td>Feminin</td>\n",
              "      <td>38</td>\n",
              "      <td>United-States</td>\n",
              "      <td>0</td>\n",
              "    </tr>\n",
              "    <tr>\n",
              "      <th>32559</th>\n",
              "      <td>58</td>\n",
              "      <td>Privee</td>\n",
              "      <td>HS-grad</td>\n",
              "      <td>9</td>\n",
              "      <td>Veuf</td>\n",
              "      <td>Adm-clerical</td>\n",
              "      <td>Celibataire</td>\n",
              "      <td>Blanc</td>\n",
              "      <td>Feminin</td>\n",
              "      <td>40</td>\n",
              "      <td>United-States</td>\n",
              "      <td>0</td>\n",
              "    </tr>\n",
              "  </tbody>\n",
              "</table>\n",
              "<p>10771 rows × 12 columns</p>\n",
              "</div>\n",
              "      <button class=\"colab-df-convert\" onclick=\"convertToInteractive('df-2d5533ab-ec86-49d9-a48f-56cd09b4e223')\"\n",
              "              title=\"Convert this dataframe to an interactive table.\"\n",
              "              style=\"display:none;\">\n",
              "        \n",
              "  <svg xmlns=\"http://www.w3.org/2000/svg\" height=\"24px\"viewBox=\"0 0 24 24\"\n",
              "       width=\"24px\">\n",
              "    <path d=\"M0 0h24v24H0V0z\" fill=\"none\"/>\n",
              "    <path d=\"M18.56 5.44l.94 2.06.94-2.06 2.06-.94-2.06-.94-.94-2.06-.94 2.06-2.06.94zm-11 1L8.5 8.5l.94-2.06 2.06-.94-2.06-.94L8.5 2.5l-.94 2.06-2.06.94zm10 10l.94 2.06.94-2.06 2.06-.94-2.06-.94-.94-2.06-.94 2.06-2.06.94z\"/><path d=\"M17.41 7.96l-1.37-1.37c-.4-.4-.92-.59-1.43-.59-.52 0-1.04.2-1.43.59L10.3 9.45l-7.72 7.72c-.78.78-.78 2.05 0 2.83L4 21.41c.39.39.9.59 1.41.59.51 0 1.02-.2 1.41-.59l7.78-7.78 2.81-2.81c.8-.78.8-2.07 0-2.86zM5.41 20L4 18.59l7.72-7.72 1.47 1.35L5.41 20z\"/>\n",
              "  </svg>\n",
              "      </button>\n",
              "      \n",
              "  <style>\n",
              "    .colab-df-container {\n",
              "      display:flex;\n",
              "      flex-wrap:wrap;\n",
              "      gap: 12px;\n",
              "    }\n",
              "\n",
              "    .colab-df-convert {\n",
              "      background-color: #E8F0FE;\n",
              "      border: none;\n",
              "      border-radius: 50%;\n",
              "      cursor: pointer;\n",
              "      display: none;\n",
              "      fill: #1967D2;\n",
              "      height: 32px;\n",
              "      padding: 0 0 0 0;\n",
              "      width: 32px;\n",
              "    }\n",
              "\n",
              "    .colab-df-convert:hover {\n",
              "      background-color: #E2EBFA;\n",
              "      box-shadow: 0px 1px 2px rgba(60, 64, 67, 0.3), 0px 1px 3px 1px rgba(60, 64, 67, 0.15);\n",
              "      fill: #174EA6;\n",
              "    }\n",
              "\n",
              "    [theme=dark] .colab-df-convert {\n",
              "      background-color: #3B4455;\n",
              "      fill: #D2E3FC;\n",
              "    }\n",
              "\n",
              "    [theme=dark] .colab-df-convert:hover {\n",
              "      background-color: #434B5C;\n",
              "      box-shadow: 0px 1px 3px 1px rgba(0, 0, 0, 0.15);\n",
              "      filter: drop-shadow(0px 1px 2px rgba(0, 0, 0, 0.3));\n",
              "      fill: #FFFFFF;\n",
              "    }\n",
              "  </style>\n",
              "\n",
              "      <script>\n",
              "        const buttonEl =\n",
              "          document.querySelector('#df-2d5533ab-ec86-49d9-a48f-56cd09b4e223 button.colab-df-convert');\n",
              "        buttonEl.style.display =\n",
              "          google.colab.kernel.accessAllowed ? 'block' : 'none';\n",
              "\n",
              "        async function convertToInteractive(key) {\n",
              "          const element = document.querySelector('#df-2d5533ab-ec86-49d9-a48f-56cd09b4e223');\n",
              "          const dataTable =\n",
              "            await google.colab.kernel.invokeFunction('convertToInteractive',\n",
              "                                                     [key], {});\n",
              "          if (!dataTable) return;\n",
              "\n",
              "          const docLinkHtml = 'Like what you see? Visit the ' +\n",
              "            '<a target=\"_blank\" href=https://colab.research.google.com/notebooks/data_table.ipynb>data table notebook</a>'\n",
              "            + ' to learn more about interactive tables.';\n",
              "          element.innerHTML = '';\n",
              "          dataTable['output_type'] = 'display_data';\n",
              "          await google.colab.output.renderOutput(dataTable, element);\n",
              "          const docLink = document.createElement('div');\n",
              "          docLink.innerHTML = docLinkHtml;\n",
              "          element.appendChild(docLink);\n",
              "        }\n",
              "      </script>\n",
              "    </div>\n",
              "  </div>\n",
              "  "
            ],
            "text/plain": [
              "       age   classe.travail     education  nombre.education   etat.civil  \\\n",
              "0       90              NaN       HS-grad                 9         Veuf   \n",
              "1       82           Privee       HS-grad                 9         Veuf   \n",
              "2       66              NaN  Some-college                10         Veuf   \n",
              "3       54           Privee       7th-8th                 4      Divorce   \n",
              "4       41           Privee  Some-college                10       Separe   \n",
              "...    ...              ...           ...               ...          ...   \n",
              "32547   39       Gouv_local    Assoc-acdm                12  Marie_civil   \n",
              "32548   37           Privee    Assoc-acdm                12      Divorce   \n",
              "32550   43  Gouv-Provincial  Some-college                10      Divorce   \n",
              "32557   27           Privee    Assoc-acdm                12  Marie_civil   \n",
              "32559   58           Privee       HS-grad                 9         Veuf   \n",
              "\n",
              "              occupation      Lien.parente   race     sexe  \\\n",
              "0                    NaN  Pas_dans_famille  Blanc  Feminin   \n",
              "1        Exec-managerial  Pas_dans_famille  Blanc  Feminin   \n",
              "2                    NaN       Celibataire   Noir  Feminin   \n",
              "3      Machine-op-inspct       Celibataire  Blanc  Feminin   \n",
              "4         Prof-specialty         Un_enfant  Blanc  Feminin   \n",
              "...                  ...               ...    ...      ...   \n",
              "32547       Adm-clerical            Epouse  Blanc  Feminin   \n",
              "32548       Tech-support  Pas_dans_famille  Blanc  Feminin   \n",
              "32550       Adm-clerical             Autre  Blanc  Feminin   \n",
              "32557       Tech-support            Epouse  Blanc  Feminin   \n",
              "32559       Adm-clerical       Celibataire  Blanc  Feminin   \n",
              "\n",
              "       heures.par.semaine     pays.natal  salaire  \n",
              "0                      40  United-States        0  \n",
              "1                      18  United-States        0  \n",
              "2                      40  United-States        0  \n",
              "3                      40  United-States        0  \n",
              "4                      40  United-States        0  \n",
              "...                   ...            ...      ...  \n",
              "32547                  20  United-States        1  \n",
              "32548                  40  United-States        0  \n",
              "32550                  40  United-States        0  \n",
              "32557                  38  United-States        0  \n",
              "32559                  40  United-States        0  \n",
              "\n",
              "[10771 rows x 12 columns]"
            ]
          },
          "execution_count": 149,
          "metadata": {},
          "output_type": "execute_result"
        }
      ],
      "source": [
        "femmes_df = salaires[salaires['sexe'] == 'Feminin']\n",
        "femmes_df"
      ]
    },
    {
      "cell_type": "markdown",
      "metadata": {
        "id": "JH08PmvQSaZ9"
      },
      "source": [
        "Separation des données en données de test(10%) et d'apprentissage"
      ]
    },
    {
      "cell_type": "code",
      "execution_count": 150,
      "metadata": {
        "id": "rGugCAbCVHPr"
      },
      "outputs": [],
      "source": [
        "import scipy\n",
        "import numpy as np\n",
        "from sklearn.model_selection import train_test_split\n",
        "from sklearn.metrics import explained_variance_score"
      ]
    },
    {
      "cell_type": "code",
      "execution_count": 151,
      "metadata": {
        "id": "kK6J6kLqc2SD"
      },
      "outputs": [],
      "source": [
        "femme_train_df, femme_test_df = train_test_split(femmes_df[[\"age\",\"nombre.education\",\"heures.par.semaine\"]], test_size=0.1)"
      ]
    },
    {
      "cell_type": "markdown",
      "metadata": {
        "id": "CxVPWIaXa1C3"
      },
      "source": [
        "1. Peut-on prédire l'âge d’une personne (femme) en fonction de son niveau\n",
        "d’éducation et son nombre d’heures travaillées par semaine ?"
      ]
    },
    {
      "cell_type": "code",
      "execution_count": 152,
      "metadata": {
        "id": "HXQ1ArJOpUhC"
      },
      "outputs": [],
      "source": [
        "A = femme_train_df[[\"nombre.education\",\"heures.par.semaine\"]].values\n",
        "y = femme_train_df[\"age\"].values"
      ]
    },
    {
      "cell_type": "code",
      "execution_count": 153,
      "metadata": {
        "colab": {
          "base_uri": "https://localhost:8080/"
        },
        "id": "OdDjPF_deJ51",
        "outputId": "3b0374b4-0054-45fd-e562-d04687d28e8a"
      },
      "outputs": [
        {
          "name": "stdout",
          "output_type": "stream",
          "text": [
            "[2.08233439 0.40054127]\n"
          ]
        }
      ],
      "source": [
        "AT = np.matrix.transpose(A)\n",
        "AT_A = np.matmul(AT,A)\n",
        "AT_y = np.matmul(AT,y)\n",
        "x = np.matmul(np.linalg.inv(AT_A), AT_y)\n",
        "print(x)"
      ]
    },
    {
      "cell_type": "code",
      "execution_count": 154,
      "metadata": {
        "id": "YYnI9eGCkQSO"
      },
      "outputs": [],
      "source": [
        "A_test = femme_test_df[[\"nombre.education\",\"heures.par.semaine\"]].values\n",
        "y_test = femme_test_df[\"age\"].values"
      ]
    },
    {
      "cell_type": "code",
      "execution_count": 155,
      "metadata": {
        "colab": {
          "base_uri": "https://localhost:8080/"
        },
        "id": "1WUwxfELiCpr",
        "outputId": "851ade66-1690-4d1a-e5fc-95e781b618da"
      },
      "outputs": [
        {
          "name": "stdout",
          "output_type": "stream",
          "text": [
            "Y_test:  [36.76536674 28.83416932 40.52949424 ... 45.17433231 45.49524556\n",
            " 32.52106993]\n"
          ]
        }
      ],
      "source": [
        "y_pred = np.squeeze(np.asarray(np.dot(x,np.transpose(A_test))))\n",
        "score = explained_variance_score(y_test,y_pred)\n",
        "print(\"Y_test: \", y_pred)"
      ]
    },
    {
      "cell_type": "code",
      "execution_count": 156,
      "metadata": {
        "colab": {
          "base_uri": "https://localhost:8080/"
        },
        "id": "h7Zwv5M0mP3O",
        "outputId": "861f8e10-607d-45cc-c307-63cb94082028"
      },
      "outputs": [
        {
          "name": "stdout",
          "output_type": "stream",
          "text": [
            "Score:  -0.2106752408345678\n"
          ]
        }
      ],
      "source": [
        "print(\"Score: \",score)"
      ]
    },
    {
      "cell_type": "markdown",
      "metadata": {
        "id": "mnV-0IfzmRsk"
      },
      "source": [
        "On ne peut pas prédire l'age en fonction du niveau d'education et du nombre d'heures travaillées par semaine parce que le score de prédiction est faible."
      ]
    },
    {
      "cell_type": "markdown",
      "metadata": {
        "id": "oBahkdIwoJJB"
      },
      "source": [
        "2- Si le niveau d’éducation et le nombre d’heures travaillées étaient réduits à\n",
        "1 seule dimension qui capture les informations importantes des 2 (SVD) ?\n",
        "Est-ce que la prédiction serait améliorée ou pas ? Vous devez tester votre\n",
        "mod`ele sur les données de tests."
      ]
    },
    {
      "cell_type": "code",
      "execution_count": 157,
      "metadata": {
        "id": "-6NUzJbQpB4s"
      },
      "outputs": [],
      "source": [
        "def do_svd(data_df):\n",
        "  U,S, V = np.linalg.svd(data_df)\n",
        "  S1 = np.zeros((data_df.shape[0],data_df.shape[1]))\n",
        "  S1[:data_df.shape[1],:data_df.shape[1]] = np.diag(S)\n",
        "  k = 1\n",
        "  S1 = S1[:,:k]\n",
        "  V = V[:k,:]\n",
        "  B = U.dot(S1.dot(V))\n",
        "  return U.dot(S1)"
      ]
    },
    {
      "cell_type": "code",
      "execution_count": 158,
      "metadata": {
        "colab": {
          "base_uri": "https://localhost:8080/"
        },
        "id": "vttyfoOCtemt",
        "outputId": "96e1ded3-b825-4b33-f289-2128a5b47e3c"
      },
      "outputs": [
        {
          "data": {
            "text/plain": [
              "array([[31.54036317],\n",
              "       [22.59096975],\n",
              "       [40.98367058],\n",
              "       ...,\n",
              "       [21.85009876],\n",
              "       [39.50192861],\n",
              "       [41.23062757]])"
            ]
          },
          "execution_count": 158,
          "metadata": {},
          "output_type": "execute_result"
        }
      ],
      "source": [
        "#Train\n",
        "T_train = do_svd(femme_train_df[[\"nombre.education\",\"heures.par.semaine\"]])\n",
        "T_train"
      ]
    },
    {
      "cell_type": "code",
      "execution_count": 159,
      "metadata": {
        "colab": {
          "base_uri": "https://localhost:8080/"
        },
        "id": "aHfFAxjvv54x",
        "outputId": "a3d354f1-e45c-428b-dd30-5afa471972ed"
      },
      "outputs": [
        {
          "data": {
            "text/plain": [
              "array([[45.82777069],\n",
              "       [21.85213849],\n",
              "       [45.35359727],\n",
              "       ...,\n",
              "       [42.22003658],\n",
              "       [47.78618452],\n",
              "       [49.9302516 ]])"
            ]
          },
          "execution_count": 159,
          "metadata": {},
          "output_type": "execute_result"
        }
      ],
      "source": [
        "#Test\n",
        "T_test = do_svd(femme_test_df[[\"nombre.education\",\"heures.par.semaine\"]])\n",
        "T_test"
      ]
    },
    {
      "cell_type": "code",
      "execution_count": 160,
      "metadata": {
        "colab": {
          "base_uri": "https://localhost:8080/"
        },
        "id": "jeVgobeDxo4G",
        "outputId": "aa7adbc9-9734-4e92-c981-f6663a5b2a1b"
      },
      "outputs": [
        {
          "name": "stdout",
          "output_type": "stream",
          "text": [
            "[[0.90238213]]\n"
          ]
        }
      ],
      "source": [
        "A = np.asmatrix(T_train)\n",
        "AT = np.matrix.transpose(A)\n",
        "AT_A = np.matmul(AT,A)\n",
        "AT_y = np.matmul(AT,y)\n",
        "x = np.matmul(np.linalg.inv(AT_A), AT_y)\n",
        "print(x),\n",
        "y_pred = np.dot(x,np.transpose(np.asmatrix(T_test)))"
      ]
    },
    {
      "cell_type": "code",
      "execution_count": 161,
      "metadata": {
        "colab": {
          "base_uri": "https://localhost:8080/"
        },
        "id": "H28lmOop3BkU",
        "outputId": "f322d06f-5603-4056-d54e-337e6ac0749c"
      },
      "outputs": [
        {
          "name": "stdout",
          "output_type": "stream",
          "text": [
            "Y_test:  [41.35416115 19.71897919 40.92627553 ... 38.09860637 43.12139878\n",
            " 45.05616659]\n"
          ]
        }
      ],
      "source": [
        "y_pred = np.squeeze(np.asarray(np.dot(x,np.transpose(T_test))))\n",
        "score = explained_variance_score(y_test,y_pred)\n",
        "print(\"Y_test: \", y_pred)"
      ]
    },
    {
      "cell_type": "code",
      "execution_count": 162,
      "metadata": {
        "colab": {
          "base_uri": "https://localhost:8080/"
        },
        "id": "6adC-x6Z4I3X",
        "outputId": "bb49e7cd-0ae9-4928-ae49-213c47193108"
      },
      "outputs": [
        {
          "name": "stdout",
          "output_type": "stream",
          "text": [
            "Score:  -0.43812772078471207\n"
          ]
        }
      ],
      "source": [
        "print(\"Score: \", score)"
      ]
    },
    {
      "cell_type": "markdown",
      "metadata": {
        "id": "z-dbwzhA4PnQ"
      },
      "source": [
        "Même en réduisant le niveau d'éducation et le nombre d'heures travaillées par semaine, on ne peut pas prédire l'âge."
      ]
    },
    {
      "cell_type": "markdown",
      "metadata": {
        "id": "gEALKguE-FLG"
      },
      "source": [
        "3. Peut-on prédire si le salaire d’une femme sera ≤ 50K en fonction de son\n",
        "niveau d’éducation, son âge et son nombre d’heures travaillées par semaine\n",
        "?"
      ]
    },
    {
      "cell_type": "code",
      "execution_count": 163,
      "metadata": {
        "id": "N87NcXV86SL3"
      },
      "outputs": [],
      "source": [
        "femme_train_df, femme_test_df = train_test_split(femmes_df[[\"age\",\"nombre.education\",\"heures.par.semaine\",\"salaire\"]], test_size=0.1)"
      ]
    },
    {
      "cell_type": "code",
      "execution_count": 164,
      "metadata": {
        "id": "pgYUyRG45njq"
      },
      "outputs": [],
      "source": [
        "A = femme_train_df[[\"age\",\"nombre.education\",\"heures.par.semaine\"]].values\n",
        "y = femme_train_df[\"salaire\"].values"
      ]
    },
    {
      "cell_type": "code",
      "execution_count": 165,
      "metadata": {
        "colab": {
          "base_uri": "https://localhost:8080/"
        },
        "id": "NNzDbtEg6zR_",
        "outputId": "bb7a766d-7435-40e4-8708-17f29254fcc5"
      },
      "outputs": [
        {
          "name": "stdout",
          "output_type": "stream",
          "text": [
            "[ 0.00063327  0.01184919 -0.00059568]\n"
          ]
        }
      ],
      "source": [
        "AT = np.matrix.transpose(A)\n",
        "AT_A = np.matmul(AT,A)\n",
        "AT_y = np.matmul(AT,y)\n",
        "x = np.matmul(np.linalg.inv(AT_A), AT_y)\n",
        "print(x)"
      ]
    },
    {
      "cell_type": "code",
      "execution_count": 166,
      "metadata": {
        "id": "EydA1sbj-ZGH"
      },
      "outputs": [],
      "source": [
        "def vef(val):\n",
        "  if val <= 0.5:\n",
        "    return 0\n",
        "  else:\n",
        "    return 1"
      ]
    },
    {
      "cell_type": "code",
      "execution_count": 167,
      "metadata": {
        "colab": {
          "base_uri": "https://localhost:8080/"
        },
        "id": "LDUhtcc38quf",
        "outputId": "ed05f3c0-488d-469b-8bdb-27a0ddef9d55"
      },
      "outputs": [
        {
          "name": "stdout",
          "output_type": "stream",
          "text": [
            "Y_test:  [0, 0, 0, 0, 0, 0, 0, 0, 0, 0, 0, 0, 0, 0, 0, 0, 0, 0, 0, 0, 0, 0, 0, 0, 0, 0, 0, 0, 0, 0, 0, 0, 0, 0, 0, 0, 0, 0, 0, 0, 0, 0, 0, 0, 0, 0, 0, 0, 0, 0, 0, 0, 0, 0, 0, 0, 0, 0, 0, 0, 0, 0, 0, 0, 0, 0, 0, 0, 0, 0, 0, 0, 0, 0, 0, 0, 0, 0, 0, 0, 0, 0, 0, 0, 0, 0, 0, 0, 0, 0, 0, 0, 0, 0, 0, 0, 0, 0, 0, 0, 0, 0, 0, 0, 0, 0, 0, 0, 0, 0, 0, 0, 0, 0, 0, 0, 0, 0, 0, 0, 0, 0, 0, 0, 0, 0, 0, 0, 0, 0, 0, 0, 0, 0, 0, 0, 0, 0, 0, 0, 0, 0, 0, 0, 0, 0, 0, 0, 0, 0, 0, 0, 0, 0, 0, 0, 0, 0, 0, 0, 0, 0, 0, 0, 0, 0, 0, 0, 0, 0, 0, 0, 0, 0, 0, 0, 0, 0, 0, 0, 0, 0, 0, 0, 0, 0, 0, 0, 0, 0, 0, 0, 0, 0, 0, 0, 0, 0, 0, 0, 0, 0, 0, 0, 0, 0, 0, 0, 0, 0, 0, 0, 0, 0, 0, 0, 0, 0, 0, 0, 0, 0, 0, 0, 0, 0, 0, 0, 0, 0, 0, 0, 0, 0, 0, 0, 0, 0, 0, 0, 0, 0, 0, 0, 0, 0, 0, 0, 0, 0, 0, 0, 0, 0, 0, 0, 0, 0, 0, 0, 0, 0, 0, 0, 0, 0, 0, 0, 0, 0, 0, 0, 0, 0, 0, 0, 0, 0, 0, 0, 0, 0, 0, 0, 0, 0, 0, 0, 0, 0, 0, 0, 0, 0, 0, 0, 0, 0, 0, 0, 0, 0, 0, 0, 0, 0, 0, 0, 0, 0, 0, 0, 0, 0, 0, 0, 0, 0, 0, 0, 0, 0, 0, 0, 0, 0, 0, 0, 0, 0, 0, 0, 0, 0, 0, 0, 0, 0, 0, 0, 0, 0, 0, 0, 0, 0, 0, 0, 0, 0, 0, 0, 0, 0, 0, 0, 0, 0, 0, 0, 0, 0, 0, 0, 0, 0, 0, 0, 0, 0, 0, 0, 0, 0, 0, 0, 0, 0, 0, 0, 0, 0, 0, 0, 0, 0, 0, 0, 0, 0, 0, 0, 0, 0, 0, 0, 0, 0, 0, 0, 0, 0, 0, 0, 0, 0, 0, 0, 0, 0, 0, 0, 0, 0, 0, 0, 0, 0, 0, 0, 0, 0, 0, 0, 0, 0, 0, 0, 0, 0, 0, 0, 0, 0, 0, 0, 0, 0, 0, 0, 0, 0, 0, 0, 0, 0, 0, 0, 0, 0, 0, 0, 0, 0, 0, 0, 0, 0, 0, 0, 0, 0, 0, 0, 0, 0, 0, 0, 0, 0, 0, 0, 0, 0, 0, 0, 0, 0, 0, 0, 0, 0, 0, 0, 0, 0, 0, 0, 0, 0, 0, 0, 0, 0, 0, 0, 0, 0, 0, 0, 0, 0, 0, 0, 0, 0, 0, 0, 0, 0, 0, 0, 0, 0, 0, 0, 0, 0, 0, 0, 0, 0, 0, 0, 0, 0, 0, 0, 0, 0, 0, 0, 0, 0, 0, 0, 0, 0, 0, 0, 0, 0, 0, 0, 0, 0, 0, 0, 0, 0, 0, 0, 0, 0, 0, 0, 0, 0, 0, 0, 0, 0, 0, 0, 0, 0, 0, 0, 0, 0, 0, 0, 0, 0, 0, 0, 0, 0, 0, 0, 0, 0, 0, 0, 0, 0, 0, 0, 0, 0, 0, 0, 0, 0, 0, 0, 0, 0, 0, 0, 0, 0, 0, 0, 0, 0, 0, 0, 0, 0, 0, 0, 0, 0, 0, 0, 0, 0, 0, 0, 0, 0, 0, 0, 0, 0, 0, 0, 0, 0, 0, 0, 0, 0, 0, 0, 0, 0, 0, 0, 0, 0, 0, 0, 0, 0, 0, 0, 0, 0, 0, 0, 0, 0, 0, 0, 0, 0, 0, 0, 0, 0, 0, 0, 0, 0, 0, 0, 0, 0, 0, 0, 0, 0, 0, 0, 0, 0, 0, 0, 0, 0, 0, 0, 0, 0, 0, 0, 0, 0, 0, 0, 0, 0, 0, 0, 0, 0, 0, 0, 0, 0, 0, 0, 0, 0, 0, 0, 0, 0, 0, 0, 0, 0, 0, 0, 0, 0, 0, 0, 0, 0, 0, 0, 0, 0, 0, 0, 0, 0, 0, 0, 0, 0, 0, 0, 0, 0, 0, 0, 0, 0, 0, 0, 0, 0, 0, 0, 0, 0, 0, 0, 0, 0, 0, 0, 0, 0, 0, 0, 0, 0, 0, 0, 0, 0, 0, 0, 0, 0, 0, 0, 0, 0, 0, 0, 0, 0, 0, 0, 0, 0, 0, 0, 0, 0, 0, 0, 0, 0, 0, 0, 0, 0, 0, 0, 0, 0, 0, 0, 0, 0, 0, 0, 0, 0, 0, 0, 0, 0, 0, 0, 0, 0, 0, 0, 0, 0, 0, 0, 0, 0, 0, 0, 0, 0, 0, 0, 0, 0, 0, 0, 0, 0, 0, 0, 0, 0, 0, 0, 0, 0, 0, 0, 0, 0, 0, 0, 0, 0, 0, 0, 0, 0, 0, 0, 0, 0, 0, 0, 0, 0, 0, 0, 0, 0, 0, 0, 0, 0, 0, 0, 0, 0, 0, 0, 0, 0, 0, 0, 0, 0, 0, 0, 0, 0, 0, 0, 0, 0, 0, 0, 0, 0, 0, 0, 0, 0, 0, 0, 0, 0, 0, 0, 0, 0, 0, 0, 0, 0, 0, 0, 0, 0, 0, 0, 0, 0, 0, 0, 0, 0, 0, 0, 0, 0, 0, 0, 0, 0, 0, 0, 0, 0, 0, 0, 0, 0, 0, 0, 0, 0, 0, 0, 0, 0, 0, 0, 0, 0, 0, 0, 0, 0, 0, 0, 0, 0, 0, 0, 0, 0, 0, 0, 0, 0, 0, 0, 0, 0, 0, 0, 0, 0, 0, 0, 0, 0, 0, 0, 0, 0, 0, 0, 0, 0, 0, 0, 0, 0, 0, 0, 0, 0, 0, 0, 0, 0, 0, 0, 0, 0, 0, 0, 0, 0, 0, 0, 0, 0, 0, 0, 0, 0, 0, 0, 0, 0, 0, 0, 0, 0, 0, 0, 0, 0, 0, 0, 0, 0, 0, 0, 0, 0, 0, 0, 0, 0, 0, 0, 0, 0, 0, 0, 0, 0, 0, 0, 0, 0, 0, 0, 0, 0, 0, 0, 0, 0, 0, 0, 0, 0, 0, 0, 0, 0, 0, 0, 0, 0, 0, 0, 0, 0, 0, 0, 0, 0]\n"
          ]
        }
      ],
      "source": [
        "y_pred = np.squeeze(np.asarray(np.dot(x,np.transpose(femme_test_df[[\"age\",\"nombre.education\",\"heures.par.semaine\"]]))))\n",
        "y_pred = list(map(vef,y_pred))\n",
        "score = explained_variance_score(y_test,y_pred)\n",
        "print(\"Y_test: \", y_pred)"
      ]
    },
    {
      "cell_type": "code",
      "execution_count": 168,
      "metadata": {
        "colab": {
          "base_uri": "https://localhost:8080/"
        },
        "id": "pHN6vInc9yjI",
        "outputId": "6222c469-cbc8-4859-fa7c-54c765d1f243"
      },
      "outputs": [
        {
          "name": "stdout",
          "output_type": "stream",
          "text": [
            "Score:  0.0\n"
          ]
        }
      ],
      "source": [
        "print(\"Score: \",score)"
      ]
    },
    {
      "cell_type": "markdown",
      "metadata": {
        "id": "2i9OC44eCJ3o"
      },
      "source": [
        "On ne peut pas prédire que le salaire d'une femme est inférieur à 50k en fonction de son age, son niveau d'éducation et le nombre d'heures travaillées par semaine."
      ]
    },
    {
      "cell_type": "markdown",
      "metadata": {
        "id": "6f1KXKie9_l2"
      },
      "source": [
        "On ne peut pas prédire "
      ]
    },
    {
      "cell_type": "markdown",
      "metadata": {
        "id": "ZUdC5XD58aay"
      },
      "source": [
        "#Analyses statistiques et probabilistes"
      ]
    },
    {
      "cell_type": "markdown",
      "metadata": {
        "id": "Rxn9qX-Y8-VS"
      },
      "source": [
        "1. Quelle est la moyenne des âges ? Quelle est la moyenne du nombre d'heures travaillées par semaine ? et les valeurs médianes ?"
      ]
    },
    {
      "cell_type": "code",
      "execution_count": 169,
      "metadata": {
        "colab": {
          "base_uri": "https://localhost:8080/"
        },
        "id": "uKuqxo_0-DQ3",
        "outputId": "46d2466b-6687-4eca-b04c-a01f0ad1d10b"
      },
      "outputs": [
        {
          "name": "stdout",
          "output_type": "stream",
          "text": [
            "La moyenne des âges est:  38.58164675532078\n"
          ]
        }
      ],
      "source": [
        "moyenne_age = salaires['age'].mean()\n",
        "print(\"La moyenne des âges est: \", moyenne_age)"
      ]
    },
    {
      "cell_type": "code",
      "execution_count": 170,
      "metadata": {
        "colab": {
          "base_uri": "https://localhost:8080/"
        },
        "id": "5gu4NCrQ-PgV",
        "outputId": "5bb7dc2a-4333-4580-e265-616401288086"
      },
      "outputs": [
        {
          "name": "stdout",
          "output_type": "stream",
          "text": [
            "La moyenne du nombre d'heures travaillées par semaine est:  40.437455852092995\n"
          ]
        }
      ],
      "source": [
        "moyenne_hts = salaires['heures.par.semaine'].mean()\n",
        "print(\"La moyenne du nombre d'heures travaillées par semaine est: \",moyenne_hts)"
      ]
    },
    {
      "cell_type": "code",
      "execution_count": 171,
      "metadata": {
        "colab": {
          "base_uri": "https://localhost:8080/"
        },
        "id": "X6G4QuJV-1Uh",
        "outputId": "8c0f5c70-bf37-4f44-d77f-8b35fbc825d9"
      },
      "outputs": [
        {
          "name": "stdout",
          "output_type": "stream",
          "text": [
            "La médiane des âges est:  37.0\n"
          ]
        }
      ],
      "source": [
        "mediane_age = salaires['age'].median()\n",
        "print(\"La médiane des âges est: \", mediane_age)"
      ]
    },
    {
      "cell_type": "code",
      "execution_count": 172,
      "metadata": {
        "colab": {
          "base_uri": "https://localhost:8080/"
        },
        "id": "5go7nSQI_Som",
        "outputId": "fdf88a04-e554-4111-f2cf-b09d158c45ee"
      },
      "outputs": [
        {
          "name": "stdout",
          "output_type": "stream",
          "text": [
            "La médiane des heures travaillées par semaine est:  40.0\n"
          ]
        }
      ],
      "source": [
        "mediane_hts = salaires['heures.par.semaine'].median()\n",
        "print(\"La médiane des heures travaillées par semaine est: \",mediane_hts)"
      ]
    },
    {
      "cell_type": "markdown",
      "metadata": {
        "id": "MU2mj2GW_wuM"
      },
      "source": [
        "2. Quels sont les âges (prendre les 5 premiers) les plus répresentifs de ce jeu de données? Répresentent-ils une tranche d'âge en particulier (ex: 30 - 35 ans)?"
      ]
    },
    {
      "cell_type": "code",
      "execution_count": 202,
      "metadata": {
        "colab": {
          "base_uri": "https://localhost:8080/"
        },
        "id": "VYWsYzsgSVkk",
        "outputId": "623c6e83-4486-4fb7-8a93-d8f29b20ebbc"
      },
      "outputs": [
        {
          "name": "stdout",
          "output_type": "stream",
          "text": [
            "age\n",
            "36    898\n",
            "31    888\n",
            "34    886\n",
            "23    877\n",
            "35    876\n",
            "33    875\n",
            "28    867\n",
            "30    861\n",
            "37    858\n",
            "25    841\n",
            "Name: age, dtype: int64\n"
          ]
        }
      ],
      "source": [
        "ages = salaires.groupby(\"age\")['age'].count().sort_values(ascending=False).iloc[:10]\n",
        "print(ages)"
      ]
    },
    {
      "cell_type": "markdown",
      "metadata": {
        "id": "ASR7D_W0SmcF"
      },
      "source": [
        " *Oui, ils représentent une tranche d'âge, mais pour avoir une tranche d'âge plus précise, nous devrions prendre au moins les 10 premiers*\n"
      ]
    },
    {
      "cell_type": "markdown",
      "metadata": {
        "id": "whUUACA4EUBn"
      },
      "source": [
        "3. Comment est la variance (à quel point les données sont éparpillées/dispersées) des heures travaillées par semaine ? Et les âges?"
      ]
    },
    {
      "cell_type": "code",
      "execution_count": 174,
      "metadata": {
        "colab": {
          "base_uri": "https://localhost:8080/"
        },
        "id": "JkKxmwdjFB25",
        "outputId": "8968f6da-b889-4298-acbe-8ae6b3ed35bf"
      },
      "outputs": [
        {
          "name": "stdout",
          "output_type": "stream",
          "text": [
            "La variance des heures de travail par semaine est:  152.45899505045415\n",
            "La variance des heures de travail par semaine est élevée, alors les données sont très dispersées\n"
          ]
        }
      ],
      "source": [
        "var_hts = salaires['heures.par.semaine'].var()\n",
        "#std_hts = salaires['heures.par.semaine'].std()\n",
        "# Les heures de travail sont éparpillées\n",
        "print(\"La variance des heures de travail par semaine est: \",var_hts)\n",
        "print(\"La variance des heures de travail par semaine est élevée, alors les données sont très dispersées\")"
      ]
    },
    {
      "cell_type": "code",
      "execution_count": 175,
      "metadata": {
        "colab": {
          "base_uri": "https://localhost:8080/"
        },
        "id": "_KY844fVGIeQ",
        "outputId": "f6a8816a-42bf-45c7-e72d-d7116280bfe5"
      },
      "outputs": [
        {
          "name": "stdout",
          "output_type": "stream",
          "text": [
            "La variance des âges est:  186.06140024880162\n",
            "La variance étant élevée alors les données sont très dispersées:\n"
          ]
        }
      ],
      "source": [
        "var_age = salaires['age'].var()\n",
        "#std_hts = salaires['age'].std()\n",
        "#Les âges sont éparpillés\n",
        "var_age\n",
        "print(\"La variance des âges est: \",var_age)\n",
        "print(\"La variance étant élevée alors les données sont très dispersées:\")"
      ]
    },
    {
      "cell_type": "markdown",
      "metadata": {
        "id": "tQemonopGeak"
      },
      "source": [
        "4. Est ce que le niveau d'éducation, comparé à l'âge influe le plus sur la valeur du salaire? En d'autres termes est ce que le niveau d'éducation a plus de poids sur le salaire?"
      ]
    },
    {
      "cell_type": "code",
      "execution_count": 176,
      "metadata": {
        "colab": {
          "base_uri": "https://localhost:8080/",
          "height": 279
        },
        "id": "5mumKnE8HeL8",
        "outputId": "40a73aef-c644-4de9-8d29-ab95a0465af1"
      },
      "outputs": [
        {
          "data": {
            "image/png": "[encoded data removed]",
            "text/plain": [
              "<Figure size 432x288 with 1 Axes>"
            ]
          },
          "metadata": {
            "needs_background": "light"
          },
          "output_type": "display_data"
        }
      ],
      "source": [
        "import seaborn as sn \n",
        "sn.boxplot(x='salaire',y='nombre.education',data=salaires);\n",
        "# Le niveau d'éducation a plus de poids sur le salaire par rapport à l'âge"
      ]
    },
    {
      "cell_type": "code",
      "execution_count": 177,
      "metadata": {
        "colab": {
          "base_uri": "https://localhost:8080/",
          "height": 279
        },
        "id": "3hXil6HBJjgi",
        "outputId": "61db8595-7f11-45ff-8e68-bb7c2cad0bcc"
      },
      "outputs": [
        {
          "data": {
            "image/png": "[encoded data removed]",
            "text/plain": [
              "<Figure size 432x288 with 1 Axes>"
            ]
          },
          "metadata": {
            "needs_background": "light"
          },
          "output_type": "display_data"
        }
      ],
      "source": [
        "sn.boxplot(x='salaire',y='age',data=salaires);"
      ]
    },
    {
      "cell_type": "markdown",
      "metadata": {
        "id": "3UEqJoJIAgtA"
      },
      "source": [
        "Oui, le niveau d’éducation influe le plus sur la valeur du salaire comparé à l’âge. Dans notre data-set, plus les employés ont un niveau d’éducation élevé, plus ils ont tendance à avoir un salaire plus élevé."
      ]
    },
    {
      "cell_type": "markdown",
      "metadata": {
        "id": "kXgfFzIUHDQO"
      },
      "source": [
        "5. Est ce que le niveau d’éducation, comparé au nombre d’heures travaillé\n",
        "par semaine influe le plus sur la valeur du salaire ? En d’autres termes\n",
        "est que le niveau d’éducation a plus de poids sur le salaire que le nombre\n",
        "d’heures travaillées par semaine ?"
      ]
    },
    {
      "cell_type": "code",
      "execution_count": 178,
      "metadata": {
        "colab": {
          "base_uri": "https://localhost:8080/",
          "height": 279
        },
        "id": "YSM1-MtuL1_r",
        "outputId": "a0735ec2-8936-4698-cd84-9c31efc9da02"
      },
      "outputs": [
        {
          "data": {
            "image/png": "[encoded data removed]",
            "text/plain": [
              "<Figure size 432x288 with 1 Axes>"
            ]
          },
          "metadata": {
            "needs_background": "light"
          },
          "output_type": "display_data"
        }
      ],
      "source": [
        "sn.boxplot(x='salaire',y='nombre.education',data=salaires);"
      ]
    },
    {
      "cell_type": "code",
      "execution_count": 179,
      "metadata": {
        "colab": {
          "base_uri": "https://localhost:8080/",
          "height": 279
        },
        "id": "1f3WNpz3Ms7b",
        "outputId": "6d677644-cbd7-4c50-fa03-50d6c668f9d7"
      },
      "outputs": [
        {
          "data": {
            "image/png": "[encoded data removed]",
            "text/plain": [
              "<Figure size 432x288 with 1 Axes>"
            ]
          },
          "metadata": {
            "needs_background": "light"
          },
          "output_type": "display_data"
        }
      ],
      "source": [
        "sn.boxplot(x='salaire',y='heures.par.semaine',data=salaires);"
      ]
    },
    {
      "cell_type": "markdown",
      "metadata": {
        "id": "BXxjZlDFOC3t"
      },
      "source": [
        "Conclusion : Dans ce contexte, le niveau d'éducation et le nombre d'heures travaillés par semaine ont tous une influence sur le salaire, mais le niveau d'éducation est celui qui a plus d'influence sur le salaire."
      ]
    },
    {
      "cell_type": "markdown",
      "metadata": {
        "id": "gXJIGO63OyEH"
      },
      "source": [
        "6. A quel point l’âge est un facteur qui influe le salaire ? Pour répondre à\n",
        "cette question vous devez vérifier que l’âge moyen de ceux qui gagnent moins\n",
        "de 50k est plus bas que ceux qui gagnent plus de 50k."
      ]
    },
    {
      "cell_type": "code",
      "execution_count": 205,
      "metadata": {
        "colab": {
          "base_uri": "https://localhost:8080/"
        },
        "id": "C_RCgTO6O-Os",
        "outputId": "53c971cb-d7fb-44fc-de22-29ac20284c59"
      },
      "outputs": [
        {
          "data": {
            "text/plain": [
              "36.78373786407767"
            ]
          },
          "execution_count": 205,
          "metadata": {},
          "output_type": "execute_result"
        }
      ],
      "source": [
        "age_min_salaire = salaires['age'][salaires['salaire'] == 0].mean()\n",
        "age_min_salaire"
      ]
    },
    {
      "cell_type": "code",
      "execution_count": 206,
      "metadata": {
        "colab": {
          "base_uri": "https://localhost:8080/"
        },
        "id": "2w52vikcQVVl",
        "outputId": "52803cef-e13b-41ac-a6c2-f8cd22e4f182"
      },
      "outputs": [
        {
          "data": {
            "text/plain": [
              "44.24984058155847"
            ]
          },
          "execution_count": 206,
          "metadata": {},
          "output_type": "execute_result"
        }
      ],
      "source": [
        "age_max_salaire = salaires['age'][salaires['salaire'] == 1].mean()\n",
        "age_max_salaire"
      ]
    },
    {
      "cell_type": "code",
      "execution_count": 208,
      "metadata": {
        "colab": {
          "base_uri": "https://localhost:8080/"
        },
        "id": "TwmSh_N_Q5Dl",
        "outputId": "19dca3f0-d17f-453f-99c3-e80e1e74b04b"
      },
      "outputs": [
        {
          "name": "stdout",
          "output_type": "stream",
          "text": [
            "L’âge est un facteur qui influe sur le salaire, parce que l’âge moyen de ceux qui gagnent plus de 50K est supérieur à celui de ceux qui gagnent moins de 50K\n"
          ]
        }
      ],
      "source": [
        "if age_max_salaire > age_min_salaire:\n",
        "  print(\"L’âge est un facteur qui influe sur le salaire, parce que l’âge moyen de ceux qui gagnent plus de 50K est supérieur à celui de ceux qui gagnent moins de 50K\")\n",
        "else:\n",
        "  print(\"L'âge n'est pas un factuer qui influent sur le salaire\")"
      ]
    },
    {
      "cell_type": "markdown",
      "metadata": {
        "id": "ZTxk0L5SRqMk"
      },
      "source": [
        "7. A quel point le nombre d’heures travaillé par semaine est un facteur qui\n",
        "influe le salaire ? Pour répondre à cette question vous devez vérifier que le\n",
        "nombre moyen d’heure travaillé par semaine pour ceux qui gagnent moins\n",
        "de 50k est plus bas que ceux qui gagnent plus de 50k."
      ]
    },
    {
      "cell_type": "code",
      "execution_count": 209,
      "metadata": {
        "colab": {
          "base_uri": "https://localhost:8080/"
        },
        "id": "FIm-5OJkRpFa",
        "outputId": "16a1db57-b004-4d9d-863e-d170b4d9978e"
      },
      "outputs": [
        {
          "data": {
            "text/plain": [
              "38.840210355987054"
            ]
          },
          "execution_count": 209,
          "metadata": {},
          "output_type": "execute_result"
        }
      ],
      "source": [
        "heure_min_salaire = salaires['heures.par.semaine'][salaires['salaire'] == 0].mean()\n",
        "heure_min_salaire"
      ]
    },
    {
      "cell_type": "code",
      "execution_count": 210,
      "metadata": {
        "colab": {
          "base_uri": "https://localhost:8080/"
        },
        "id": "1x1Bbl5fSLzL",
        "outputId": "365d498c-cb1d-4dfe-ebda-743a2551e8e7"
      },
      "outputs": [
        {
          "data": {
            "text/plain": [
              "45.473026399693914"
            ]
          },
          "execution_count": 210,
          "metadata": {},
          "output_type": "execute_result"
        }
      ],
      "source": [
        "heure_max_salaire = salaires['heures.par.semaine'][salaires['salaire'] == 1].mean()\n",
        "heure_max_salaire"
      ]
    },
    {
      "cell_type": "code",
      "execution_count": 212,
      "metadata": {
        "colab": {
          "base_uri": "https://localhost:8080/"
        },
        "id": "u2cEuJiwSm75",
        "outputId": "4759d957-eb6b-43f1-8d3d-aa22b7cc0cb5"
      },
      "outputs": [
        {
          "name": "stdout",
          "output_type": "stream",
          "text": [
            "Le nombre d'heures est un facteur qui influe sur le salaire, parceque le nombre moyen d'heures travaillés par semaine de ceux qui gagnent moins de 50K est plus bas que l'autre groupe\n"
          ]
        }
      ],
      "source": [
        "if age_max_salaire > age_min_salaire:\n",
        "  print(\"Le nombre d'heures est un facteur qui influe sur le salaire, parceque le nombre moyen d'heures travaillés par semaine de ceux qui gagnent moins de 50K est plus bas que l'autre groupe\")\n",
        "else:\n",
        "  print(\"Le nombre d'heures travaillés par semaine n'est pas un factuer qui influent sur le salaire\")"
      ]
    },
    {
      "cell_type": "markdown",
      "metadata": {
        "id": "WGgRNeF5Ta2V"
      },
      "source": [
        "8. Est ce qu’il y a une différence de salaire entre les personnes mariées et les\n",
        "personnes célibataires ? Quel groupe gagne le mieux leurs vies ?"
      ]
    },
    {
      "cell_type": "code",
      "execution_count": 186,
      "metadata": {
        "colab": {
          "base_uri": "https://localhost:8080/"
        },
        "id": "asxB-eDTTZR9",
        "outputId": "b2fdd57f-a8f3-4852-e53a-a6a451ccb29e"
      },
      "outputs": [
        {
          "data": {
            "text/plain": [
              "0.04596087241411589"
            ]
          },
          "execution_count": 186,
          "metadata": {},
          "output_type": "execute_result"
        }
      ],
      "source": [
        "moy_sal_celib = salaires['salaire'][(salaires['etat.civil'] == 'Jamais_marie')].mean()\n",
        "moy_sal_celib"
      ]
    },
    {
      "cell_type": "code",
      "execution_count": 187,
      "metadata": {
        "colab": {
          "base_uri": "https://localhost:8080/"
        },
        "id": "00r2NlGLjwQ-",
        "outputId": "b75c4cf1-c778-4ca4-ae14-525090a82f7b"
      },
      "outputs": [
        {
          "data": {
            "text/plain": [
              "0.4468482905982906"
            ]
          },
          "execution_count": 187,
          "metadata": {},
          "output_type": "execute_result"
        }
      ],
      "source": [
        "moy_sal_marie = salaires['salaire'][(salaires['etat.civil'] == 'Marie_civil')].mean()\n",
        "moy_sal_marie"
      ]
    },
    {
      "cell_type": "code",
      "execution_count": 188,
      "metadata": {
        "colab": {
          "base_uri": "https://localhost:8080/"
        },
        "id": "PwtXu0JkF1_k",
        "outputId": "92d0cae6-142e-416e-8b82-18d1a788daeb"
      },
      "outputs": [
        {
          "name": "stdout",
          "output_type": "stream",
          "text": [
            "Les mariés gagnent mieux leur vie !\n"
          ]
        }
      ],
      "source": [
        "if moy_sal_celib > moy_sal_marie:\n",
        "  print(\"Les célibataires gagnent mieux leur vie !\")\n",
        "elif moy_sal_celib < moy_sal_marie:\n",
        "  print(\"Les mariés gagnent mieux leur vie !\")\n",
        "else:\n",
        "  print(\"Les célibataires gagnent autant mieux leur vie que les mariés !\")"
      ]
    },
    {
      "cell_type": "markdown",
      "metadata": {
        "id": "1dSYGay8k7dM"
      },
      "source": [
        "9. Quelle est la proportion des hommes qui ont un doctorat et qui gagnent plus\n",
        "de 50k ? et chez les femmes ?"
      ]
    },
    {
      "cell_type": "code",
      "execution_count": 214,
      "metadata": {
        "colab": {
          "base_uri": "https://localhost:8080/"
        },
        "id": "CFCKuT8olNHO",
        "outputId": "125cfca1-e349-473f-bc05-6d5cfc6a3642"
      },
      "outputs": [
        {
          "name": "stdout",
          "output_type": "stream",
          "text": [
            "La proportion des hommes qui ont un doctorat et qui gagnent plus de 50K est:  0.011748508490133088\n"
          ]
        }
      ],
      "source": [
        "data_hommes = salaires[salaires['sexe'] == 'Masculin']\n",
        "nbr_total_hommes_g = len(data_hommes[(data_hommes['education'] == 'Doctorate') & (data_hommes['salaire'] == 1)])\n",
        "prop_hommes = nbr_total_hommes_g / len(data_hommes)\n",
        "print(\"La proportion des hommes qui ont un doctorat et qui gagnent plus de 50K est: \", prop_hommes)"
      ]
    },
    {
      "cell_type": "code",
      "execution_count": 216,
      "metadata": {
        "colab": {
          "base_uri": "https://localhost:8080/"
        },
        "id": "P1WQDn6CowVA",
        "outputId": "6f506df2-4de5-4448-fb68-6cb858809b76"
      },
      "outputs": [
        {
          "name": "stdout",
          "output_type": "stream",
          "text": [
            "La proportion des femmes qui ont un doctorat et qui gagnent plus de 50K est:  0.004642094513044285\n"
          ]
        }
      ],
      "source": [
        "data_femmes = salaires[salaires['sexe'] == 'Feminin']\n",
        "nbr_total_femmes_g = len(data_femmes[(data_femmes['education'] == 'Doctorate') & (data_femmes['salaire'] == 1)])\n",
        "prop_femmes = nbr_total_femmes_g / len(data_femmes)\n",
        "print(\"La proportion des femmes qui ont un doctorat et qui gagnent plus de 50K est: \", prop_femmes)"
      ]
    },
    {
      "cell_type": "markdown",
      "metadata": {
        "id": "4LG2kyvZpE9h"
      },
      "source": [
        "10- Quelle est la proportion des femmes mariées qui n’ont pas fait de masters\n",
        "ni de doctorat ? et chez les hommes ?"
      ]
    },
    {
      "cell_type": "code",
      "execution_count": 191,
      "metadata": {
        "colab": {
          "base_uri": "https://localhost:8080/"
        },
        "id": "zsIZ2cjSpN-k",
        "outputId": "556c3123-4dbd-49cf-9f07-05cd0d3c37cb"
      },
      "outputs": [
        {
          "name": "stdout",
          "output_type": "stream",
          "text": [
            "La proportion des femmes mariées qui n'ont ni de master ni un doctorat est:  0.9197344598672299\n"
          ]
        }
      ],
      "source": [
        "data_femmes = salaires[(salaires['sexe'] == 'Feminin') & (salaires['etat.civil'] == 'Marie_civil')]\n",
        "nbr_total_femmes_edu = len(data_femmes[(data_femmes['education'] != 'Doctorate') & (data_femmes['education'] != 'Masters')])\n",
        "prop_femmes_mariees = nbr_total_femmes_edu / len(data_femmes)\n",
        "print(\"La proportion des femmes mariées qui n'ont ni de master ni un doctorat est: \", prop_femmes_mariees)"
      ]
    },
    {
      "cell_type": "code",
      "execution_count": 192,
      "metadata": {
        "colab": {
          "base_uri": "https://localhost:8080/"
        },
        "id": "2ogYqxo_rk_n",
        "outputId": "6db9ea6f-ff9d-48df-f23f-f2f51c60f039"
      },
      "outputs": [
        {
          "name": "stdout",
          "output_type": "stream",
          "text": [
            "La proportion des hommes mariés qui n'ont ni de master ni un doctorat est:  0.9132066971994894\n"
          ]
        }
      ],
      "source": [
        "data_hommes = salaires[(salaires['sexe'] == 'Masculin') & (salaires['etat.civil'] == 'Marie_civil')]\n",
        "nbr_total_hommes_edu = len(data_hommes[(data_hommes['education'] != 'Doctorate') & (data_hommes['education'] != 'Masters')])\n",
        "prop_hommes_maries = nbr_total_hommes_edu / len(data_hommes)\n",
        "print(\"La proportion des hommes mariés qui n'ont ni de master ni un doctorat est: \", prop_hommes_maries)"
      ]
    },
    {
      "cell_type": "markdown",
      "metadata": {
        "id": "cf0fxZbVvwkz"
      },
      "source": [
        "11. Les ressortissants de quel pays ont les salaires les plus élevés uniquement dans notre échantillon?"
      ]
    },
    {
      "cell_type": "code",
      "execution_count": 217,
      "metadata": {
        "colab": {
          "base_uri": "https://localhost:8080/"
        },
        "id": "pJCQcxQ4wAV-",
        "outputId": "afd3b624-8e2f-490a-cd8d-fdadcfa42ae4"
      },
      "outputs": [
        {
          "name": "stdout",
          "output_type": "stream",
          "text": [
            "Le pays pays qui a les ressortissants avec le salaire le plus élevé est:  Iran\n"
          ]
        }
      ],
      "source": [
        "pays_salaire = salaires.groupby('pays.natal').mean()\n",
        "print(\"Le pays pays qui a les ressortissants avec le salaire le plus élevé est: \", pays_salaire['salaire'].idxmax())\n"
      ]
    },
    {
      "cell_type": "markdown",
      "metadata": {
        "id": "OGGRl0ONwBSC"
      },
      "source": [
        "12. Quelle race a les salaires les plus élevés uniquement dans notre échantillon?"
      ]
    },
    {
      "cell_type": "code",
      "execution_count": 194,
      "metadata": {
        "colab": {
          "base_uri": "https://localhost:8080/"
        },
        "id": "wldT37BMp_Au",
        "outputId": "98573db9-f16a-49c9-c16f-3bc52324ef99"
      },
      "outputs": [
        {
          "name": "stdout",
          "output_type": "stream",
          "text": [
            "La race avec le salaire le plus élevé est:  Asiatique\n"
          ]
        }
      ],
      "source": [
        "race_salaire = salaires.groupby(['race']).mean()\n",
        "print(\"La race avec le salaire le plus élevé est: \", race_salaire['salaire'].idxmax())"
      ]
    },
    {
      "cell_type": "markdown",
      "metadata": {
        "id": "D10lRZS98lRR"
      },
      "source": [
        "# Tests d'hypothèses"
      ]
    },
    {
      "cell_type": "markdown",
      "metadata": {
        "id": "0lFGGUNTTFfY"
      },
      "source": [
        "1. Est-ce qu’on peut dire que la moyenne d’heures travaillées par semaine est autour de 40h/semaine ? Est-ce que l’affirmer serait significatif ?"
      ]
    },
    {
      "cell_type": "code",
      "execution_count": 219,
      "metadata": {
        "colab": {
          "base_uri": "https://localhost:8080/"
        },
        "id": "0sOahvxoTJuj",
        "outputId": "121b26d6-6d44-4a8f-87d2-50bfa59fd11c"
      },
      "outputs": [
        {
          "data": {
            "text/plain": [
              "40.437455852092995"
            ]
          },
          "execution_count": 219,
          "metadata": {},
          "output_type": "execute_result"
        }
      ],
      "source": [
        "# Calcul de la moyenne des heures travaillées par semaine\n",
        "moyennne_heures = salaires['heures.par.semaine'].mean()\n",
        "moyennne_heures"
      ]
    },
    {
      "cell_type": "code",
      "execution_count": 196,
      "metadata": {
        "id": "w0PQ-rAiUlDm"
      },
      "outputs": [],
      "source": [
        "from scipy.stats import ttest_1samp"
      ]
    },
    {
      "cell_type": "code",
      "execution_count": 220,
      "metadata": {
        "colab": {
          "base_uri": "https://localhost:8080/"
        },
        "id": "KEuspaPYVD1P",
        "outputId": "6ad6ab7f-865f-4214-e60d-8997bc84fd53"
      },
      "outputs": [
        {
          "name": "stdout",
          "output_type": "stream",
          "text": [
            "Hypothèse nulle H0: mhs_Homme = mhs_Femme\n",
            "Hyothèse alternative H1: mhs_Homme != mhs_Femme\n",
            "P-value: 1.6483286793366825e-10\n",
            "Rejetter l'hypothèse nulle\n"
          ]
        }
      ],
      "source": [
        "print(\"Hypothèse nulle H0: mhs_Homme = mhs_Femme\")\n",
        "print(\"Hyothèse alternative H1: mhs_Homme != mhs_Femme\")\n",
        "moyenne_prop = 40.0\n",
        "results, p_value = ttest_1samp(salaires['heures.par.semaine'], moyenne_prop)\n",
        "print(\"P-value: {}\".format(p_value))\n",
        "if p_value < 0.05:\n",
        "  print(\"Rejetter l'hypothèse nulle\")\n",
        "else:\n",
        "  print(\"On accepte l'hypothèse nulle\")"
      ]
    },
    {
      "cell_type": "markdown",
      "metadata": {
        "id": "A-A_uWw5WPS3"
      },
      "source": [
        "* **p_value < 0.05, le test est significatif au seuil alpha=5%, donc on rejette l'hypothèse nulle au profit de l'hypothèse alternative.** *"
      ]
    },
    {
      "cell_type": "markdown",
      "metadata": {
        "id": "ThlWYUYAWzyk"
      },
      "source": [
        "2. Est ce que les hommes ont en moyenne un salaire supérieur à 50k comparé\n",
        "aux femmes ? est-ce significatif ?"
      ]
    },
    {
      "cell_type": "code",
      "execution_count": 198,
      "metadata": {
        "id": "dVffdHVY1Bfw"
      },
      "outputs": [],
      "source": [
        "from scipy.stats import ttest_ind"
      ]
    },
    {
      "cell_type": "code",
      "execution_count": 199,
      "metadata": {
        "colab": {
          "base_uri": "https://localhost:8080/"
        },
        "id": "Q920cUfXWEe5",
        "outputId": "08ad7997-a256-4dcb-e9a3-c0f2a543a436"
      },
      "outputs": [
        {
          "name": "stdout",
          "output_type": "stream",
          "text": [
            "Hypothèse nulle H0: ms_Homme = ms_Femme\n",
            "Hyothèse alternative H1: ms_Homme > ms_Femme\n",
            "Moyenne SH:  0.3057365764111978\n",
            "Moyenne SF:  0.10946058861758426\n",
            "P-value:  0.0\n",
            "Rejetter l'hypothèse nulle\n"
          ]
        }
      ],
      "source": [
        "print(\"Hypothèse nulle H0: ms_Homme = ms_Femme\")\n",
        "print(\"Hyothèse alternative H1: ms_Homme > ms_Femme\")\n",
        "\n",
        "data_hommes_sal = salaires['salaire'][(salaires['sexe'] == 'Masculin')]\n",
        "data_femmes_sal = salaires['salaire'][(salaires['sexe'] == 'Feminin')]\n",
        "\n",
        "print(\"Moyenne SH: \",data_hommes_sal.mean())\n",
        "print(\"Moyenne SF: \",data_femmes_sal.mean())\n",
        "\n",
        "resultat, p_value = ttest_ind(data_femmes_sal,data_hommes_sal)\n",
        "print(\"P-value: \", p_value)\n",
        "if p_value < 0.05:\n",
        "  print(\"Rejetter l'hypothèse nulle\")\n",
        "else:\n",
        "  print(\"On accepte l'hypothèse nulle\")"
      ]
    },
    {
      "cell_type": "markdown",
      "metadata": {
        "id": "X6EsCu1X2xyq"
      },
      "source": [
        "***Les hommes n'ont pas en moyenne un salaire >50K comparé aux femmes.***"
      ]
    },
    {
      "cell_type": "markdown",
      "metadata": {
        "id": "9mkUOdZAs7xA"
      },
      "source": [
        "3. Est ce qu’il y a un lien quelconque entre l’âge et le nombre d’heures travaillées\n",
        "par semaine ? est-ce significatif ?"
      ]
    },
    {
      "cell_type": "code",
      "execution_count": 200,
      "metadata": {
        "id": "-qHf6x8mEJjA"
      },
      "outputs": [],
      "source": [
        "from scipy.stats import ttest_rel"
      ]
    },
    {
      "cell_type": "code",
      "execution_count": 201,
      "metadata": {
        "colab": {
          "base_uri": "https://localhost:8080/"
        },
        "id": "1h9cB5XHq3t7",
        "outputId": "fdbe28f3-c883-44b8-86ae-7cf230cc3e83"
      },
      "outputs": [
        {
          "name": "stdout",
          "output_type": "stream",
          "text": [
            "Hypothèse nulle H0: Il existe un lien entre l'âge et le nombre d'heures travaillées\n",
            "Hypothèse alternative H1: Il n'existe pas de lien entre l'âge et le nombre d'heures travaillées\n",
            "Moyenne age:  38.58164675532078\n",
            "Moyenne HTS:  40.437455852092995\n",
            "P-value:  6.751525347329476e-79\n",
            "Rejetter l'hypothèse nulle\n"
          ]
        }
      ],
      "source": [
        "print(\"Hypothèse nulle H0: Il existe un lien entre l'âge et le nombre d'heures travaillées\")\n",
        "print(\"Hypothèse alternative H1: Il n'existe pas de lien entre l'âge et le nombre d'heures travaillées\")\n",
        "age_salaire_df = salaires[[\"age\",\"heures.par.semaine\"]]\n",
        "print(\"Moyenne age: \",age_salaire_df[\"age\"].mean())\n",
        "print(\"Moyenne HTS: \",age_salaire_df[\"heures.par.semaine\"].mean())\n",
        "\n",
        "result, p_value = ttest_rel(age_salaire_df[\"age\"],age_salaire_df[\"heures.par.semaine\"])\n",
        "print(\"P-value: \",p_value)\n",
        "\n",
        "if p_value < 0.05:\n",
        "  print(\"Rejetter l'hypothèse nulle\")\n",
        "else:\n",
        "  print(\"On accepte l'hypothèse nulle\")\n",
        "\n"
      ]
    },
    {
      "cell_type": "markdown",
      "metadata": {
        "id": "Yn65oQJ-vCxD"
      },
      "source": [
        "***Comme p_value < 0.05, alors on rejette l'hypothèse nulle au profit de l'hypothèse alternative. Alors il n'existe pas de lien entre l'age et le nombre d'heures travaillées***"
      ]
    },
    {
      "cell_type": "code",
      "execution_count": 201,
      "metadata": {
        "id": "Vfdi6YirvBXj"
      },
      "outputs": [],
      "source": []
    }
  ],
  "metadata": {
    "colab": {
      "collapsed_sections": [],
      "provenance": []
    },
    "kernelspec": {
      "display_name": "Python 3",
      "name": "python3"
    },
    "language_info": {
      "name": "python"
    }
  },
  "nbformat": 4,
  "nbformat_minor": 0
}
